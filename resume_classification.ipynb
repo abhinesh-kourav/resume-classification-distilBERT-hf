{
  "nbformat": 4,
  "nbformat_minor": 0,
  "metadata": {
    "colab": {
      "provenance": [],
      "toc_visible": true,
      "gpuType": "T4"
    },
    "kernelspec": {
      "name": "python3",
      "display_name": "Python 3"
    },
    "language_info": {
      "name": "python"
    },
    "accelerator": "GPU",
    "widgets": {
      "application/vnd.jupyter.widget-state+json": {
        "3aebd33a757543d78b4d6107dd4ec8aa": {
          "model_module": "@jupyter-widgets/controls",
          "model_name": "HBoxModel",
          "model_module_version": "1.5.0",
          "state": {
            "_dom_classes": [],
            "_model_module": "@jupyter-widgets/controls",
            "_model_module_version": "1.5.0",
            "_model_name": "HBoxModel",
            "_view_count": null,
            "_view_module": "@jupyter-widgets/controls",
            "_view_module_version": "1.5.0",
            "_view_name": "HBoxView",
            "box_style": "",
            "children": [
              "IPY_MODEL_5723ba8c8d724c6599e670b7b2e3f852",
              "IPY_MODEL_d41c99cd133f44f1aae84c8d217f4e33",
              "IPY_MODEL_69d4b9d714184fe98c59f872453da71d"
            ],
            "layout": "IPY_MODEL_24be089630b3452db51dd28517655182"
          }
        },
        "5723ba8c8d724c6599e670b7b2e3f852": {
          "model_module": "@jupyter-widgets/controls",
          "model_name": "HTMLModel",
          "model_module_version": "1.5.0",
          "state": {
            "_dom_classes": [],
            "_model_module": "@jupyter-widgets/controls",
            "_model_module_version": "1.5.0",
            "_model_name": "HTMLModel",
            "_view_count": null,
            "_view_module": "@jupyter-widgets/controls",
            "_view_module_version": "1.5.0",
            "_view_name": "HTMLView",
            "description": "",
            "description_tooltip": null,
            "layout": "IPY_MODEL_de63e335ec854175a5ed7c4eccd8b37c",
            "placeholder": "​",
            "style": "IPY_MODEL_08f176262eda4d96be03043a06e72851",
            "value": "Map: 100%"
          }
        },
        "d41c99cd133f44f1aae84c8d217f4e33": {
          "model_module": "@jupyter-widgets/controls",
          "model_name": "FloatProgressModel",
          "model_module_version": "1.5.0",
          "state": {
            "_dom_classes": [],
            "_model_module": "@jupyter-widgets/controls",
            "_model_module_version": "1.5.0",
            "_model_name": "FloatProgressModel",
            "_view_count": null,
            "_view_module": "@jupyter-widgets/controls",
            "_view_module_version": "1.5.0",
            "_view_name": "ProgressView",
            "bar_style": "success",
            "description": "",
            "description_tooltip": null,
            "layout": "IPY_MODEL_1c700da2f78e4d3ab5d9b4fea2091a02",
            "max": 2235,
            "min": 0,
            "orientation": "horizontal",
            "style": "IPY_MODEL_80185ec384bf46f6a38faa662ee9711f",
            "value": 2235
          }
        },
        "69d4b9d714184fe98c59f872453da71d": {
          "model_module": "@jupyter-widgets/controls",
          "model_name": "HTMLModel",
          "model_module_version": "1.5.0",
          "state": {
            "_dom_classes": [],
            "_model_module": "@jupyter-widgets/controls",
            "_model_module_version": "1.5.0",
            "_model_name": "HTMLModel",
            "_view_count": null,
            "_view_module": "@jupyter-widgets/controls",
            "_view_module_version": "1.5.0",
            "_view_name": "HTMLView",
            "description": "",
            "description_tooltip": null,
            "layout": "IPY_MODEL_6cd73240f17346f1b7733c1daab6c551",
            "placeholder": "​",
            "style": "IPY_MODEL_5d3397e91e8f4673b4faea86c41bd191",
            "value": " 2235/2235 [00:11&lt;00:00, 202.14 examples/s]"
          }
        },
        "24be089630b3452db51dd28517655182": {
          "model_module": "@jupyter-widgets/base",
          "model_name": "LayoutModel",
          "model_module_version": "1.2.0",
          "state": {
            "_model_module": "@jupyter-widgets/base",
            "_model_module_version": "1.2.0",
            "_model_name": "LayoutModel",
            "_view_count": null,
            "_view_module": "@jupyter-widgets/base",
            "_view_module_version": "1.2.0",
            "_view_name": "LayoutView",
            "align_content": null,
            "align_items": null,
            "align_self": null,
            "border": null,
            "bottom": null,
            "display": null,
            "flex": null,
            "flex_flow": null,
            "grid_area": null,
            "grid_auto_columns": null,
            "grid_auto_flow": null,
            "grid_auto_rows": null,
            "grid_column": null,
            "grid_gap": null,
            "grid_row": null,
            "grid_template_areas": null,
            "grid_template_columns": null,
            "grid_template_rows": null,
            "height": null,
            "justify_content": null,
            "justify_items": null,
            "left": null,
            "margin": null,
            "max_height": null,
            "max_width": null,
            "min_height": null,
            "min_width": null,
            "object_fit": null,
            "object_position": null,
            "order": null,
            "overflow": null,
            "overflow_x": null,
            "overflow_y": null,
            "padding": null,
            "right": null,
            "top": null,
            "visibility": null,
            "width": null
          }
        },
        "de63e335ec854175a5ed7c4eccd8b37c": {
          "model_module": "@jupyter-widgets/base",
          "model_name": "LayoutModel",
          "model_module_version": "1.2.0",
          "state": {
            "_model_module": "@jupyter-widgets/base",
            "_model_module_version": "1.2.0",
            "_model_name": "LayoutModel",
            "_view_count": null,
            "_view_module": "@jupyter-widgets/base",
            "_view_module_version": "1.2.0",
            "_view_name": "LayoutView",
            "align_content": null,
            "align_items": null,
            "align_self": null,
            "border": null,
            "bottom": null,
            "display": null,
            "flex": null,
            "flex_flow": null,
            "grid_area": null,
            "grid_auto_columns": null,
            "grid_auto_flow": null,
            "grid_auto_rows": null,
            "grid_column": null,
            "grid_gap": null,
            "grid_row": null,
            "grid_template_areas": null,
            "grid_template_columns": null,
            "grid_template_rows": null,
            "height": null,
            "justify_content": null,
            "justify_items": null,
            "left": null,
            "margin": null,
            "max_height": null,
            "max_width": null,
            "min_height": null,
            "min_width": null,
            "object_fit": null,
            "object_position": null,
            "order": null,
            "overflow": null,
            "overflow_x": null,
            "overflow_y": null,
            "padding": null,
            "right": null,
            "top": null,
            "visibility": null,
            "width": null
          }
        },
        "08f176262eda4d96be03043a06e72851": {
          "model_module": "@jupyter-widgets/controls",
          "model_name": "DescriptionStyleModel",
          "model_module_version": "1.5.0",
          "state": {
            "_model_module": "@jupyter-widgets/controls",
            "_model_module_version": "1.5.0",
            "_model_name": "DescriptionStyleModel",
            "_view_count": null,
            "_view_module": "@jupyter-widgets/base",
            "_view_module_version": "1.2.0",
            "_view_name": "StyleView",
            "description_width": ""
          }
        },
        "1c700da2f78e4d3ab5d9b4fea2091a02": {
          "model_module": "@jupyter-widgets/base",
          "model_name": "LayoutModel",
          "model_module_version": "1.2.0",
          "state": {
            "_model_module": "@jupyter-widgets/base",
            "_model_module_version": "1.2.0",
            "_model_name": "LayoutModel",
            "_view_count": null,
            "_view_module": "@jupyter-widgets/base",
            "_view_module_version": "1.2.0",
            "_view_name": "LayoutView",
            "align_content": null,
            "align_items": null,
            "align_self": null,
            "border": null,
            "bottom": null,
            "display": null,
            "flex": null,
            "flex_flow": null,
            "grid_area": null,
            "grid_auto_columns": null,
            "grid_auto_flow": null,
            "grid_auto_rows": null,
            "grid_column": null,
            "grid_gap": null,
            "grid_row": null,
            "grid_template_areas": null,
            "grid_template_columns": null,
            "grid_template_rows": null,
            "height": null,
            "justify_content": null,
            "justify_items": null,
            "left": null,
            "margin": null,
            "max_height": null,
            "max_width": null,
            "min_height": null,
            "min_width": null,
            "object_fit": null,
            "object_position": null,
            "order": null,
            "overflow": null,
            "overflow_x": null,
            "overflow_y": null,
            "padding": null,
            "right": null,
            "top": null,
            "visibility": null,
            "width": null
          }
        },
        "80185ec384bf46f6a38faa662ee9711f": {
          "model_module": "@jupyter-widgets/controls",
          "model_name": "ProgressStyleModel",
          "model_module_version": "1.5.0",
          "state": {
            "_model_module": "@jupyter-widgets/controls",
            "_model_module_version": "1.5.0",
            "_model_name": "ProgressStyleModel",
            "_view_count": null,
            "_view_module": "@jupyter-widgets/base",
            "_view_module_version": "1.2.0",
            "_view_name": "StyleView",
            "bar_color": null,
            "description_width": ""
          }
        },
        "6cd73240f17346f1b7733c1daab6c551": {
          "model_module": "@jupyter-widgets/base",
          "model_name": "LayoutModel",
          "model_module_version": "1.2.0",
          "state": {
            "_model_module": "@jupyter-widgets/base",
            "_model_module_version": "1.2.0",
            "_model_name": "LayoutModel",
            "_view_count": null,
            "_view_module": "@jupyter-widgets/base",
            "_view_module_version": "1.2.0",
            "_view_name": "LayoutView",
            "align_content": null,
            "align_items": null,
            "align_self": null,
            "border": null,
            "bottom": null,
            "display": null,
            "flex": null,
            "flex_flow": null,
            "grid_area": null,
            "grid_auto_columns": null,
            "grid_auto_flow": null,
            "grid_auto_rows": null,
            "grid_column": null,
            "grid_gap": null,
            "grid_row": null,
            "grid_template_areas": null,
            "grid_template_columns": null,
            "grid_template_rows": null,
            "height": null,
            "justify_content": null,
            "justify_items": null,
            "left": null,
            "margin": null,
            "max_height": null,
            "max_width": null,
            "min_height": null,
            "min_width": null,
            "object_fit": null,
            "object_position": null,
            "order": null,
            "overflow": null,
            "overflow_x": null,
            "overflow_y": null,
            "padding": null,
            "right": null,
            "top": null,
            "visibility": null,
            "width": null
          }
        },
        "5d3397e91e8f4673b4faea86c41bd191": {
          "model_module": "@jupyter-widgets/controls",
          "model_name": "DescriptionStyleModel",
          "model_module_version": "1.5.0",
          "state": {
            "_model_module": "@jupyter-widgets/controls",
            "_model_module_version": "1.5.0",
            "_model_name": "DescriptionStyleModel",
            "_view_count": null,
            "_view_module": "@jupyter-widgets/base",
            "_view_module_version": "1.2.0",
            "_view_name": "StyleView",
            "description_width": ""
          }
        },
        "7ec31ec6701647589ba02b3ead87e8ac": {
          "model_module": "@jupyter-widgets/controls",
          "model_name": "HBoxModel",
          "model_module_version": "1.5.0",
          "state": {
            "_dom_classes": [],
            "_model_module": "@jupyter-widgets/controls",
            "_model_module_version": "1.5.0",
            "_model_name": "HBoxModel",
            "_view_count": null,
            "_view_module": "@jupyter-widgets/controls",
            "_view_module_version": "1.5.0",
            "_view_name": "HBoxView",
            "box_style": "",
            "children": [
              "IPY_MODEL_bc58473c6c304ffcb56c355cb5e657c4",
              "IPY_MODEL_656a9da1a82d4cdabc8468c9e718b95a",
              "IPY_MODEL_d73951c408514b5186a74b410138b82a"
            ],
            "layout": "IPY_MODEL_aa984033ef6744d8a2f162f5312387ca"
          }
        },
        "bc58473c6c304ffcb56c355cb5e657c4": {
          "model_module": "@jupyter-widgets/controls",
          "model_name": "HTMLModel",
          "model_module_version": "1.5.0",
          "state": {
            "_dom_classes": [],
            "_model_module": "@jupyter-widgets/controls",
            "_model_module_version": "1.5.0",
            "_model_name": "HTMLModel",
            "_view_count": null,
            "_view_module": "@jupyter-widgets/controls",
            "_view_module_version": "1.5.0",
            "_view_name": "HTMLView",
            "description": "",
            "description_tooltip": null,
            "layout": "IPY_MODEL_c1f45616d0e0404eb6616f9e65f768a6",
            "placeholder": "​",
            "style": "IPY_MODEL_265b313bfc774b1c94783ad09a18c31a",
            "value": "Map: 100%"
          }
        },
        "656a9da1a82d4cdabc8468c9e718b95a": {
          "model_module": "@jupyter-widgets/controls",
          "model_name": "FloatProgressModel",
          "model_module_version": "1.5.0",
          "state": {
            "_dom_classes": [],
            "_model_module": "@jupyter-widgets/controls",
            "_model_module_version": "1.5.0",
            "_model_name": "FloatProgressModel",
            "_view_count": null,
            "_view_module": "@jupyter-widgets/controls",
            "_view_module_version": "1.5.0",
            "_view_name": "ProgressView",
            "bar_style": "success",
            "description": "",
            "description_tooltip": null,
            "layout": "IPY_MODEL_19d9d5471f8e4565ab4f6d2e5b63f8b1",
            "max": 249,
            "min": 0,
            "orientation": "horizontal",
            "style": "IPY_MODEL_a67317c7f17a4da6ad43852b13f4d3bb",
            "value": 249
          }
        },
        "d73951c408514b5186a74b410138b82a": {
          "model_module": "@jupyter-widgets/controls",
          "model_name": "HTMLModel",
          "model_module_version": "1.5.0",
          "state": {
            "_dom_classes": [],
            "_model_module": "@jupyter-widgets/controls",
            "_model_module_version": "1.5.0",
            "_model_name": "HTMLModel",
            "_view_count": null,
            "_view_module": "@jupyter-widgets/controls",
            "_view_module_version": "1.5.0",
            "_view_name": "HTMLView",
            "description": "",
            "description_tooltip": null,
            "layout": "IPY_MODEL_eb06299ad81a4d4cb7e1556133b754c0",
            "placeholder": "​",
            "style": "IPY_MODEL_7d4332bbda9c48309d018b8351e2f593",
            "value": " 249/249 [00:00&lt;00:00, 294.72 examples/s]"
          }
        },
        "aa984033ef6744d8a2f162f5312387ca": {
          "model_module": "@jupyter-widgets/base",
          "model_name": "LayoutModel",
          "model_module_version": "1.2.0",
          "state": {
            "_model_module": "@jupyter-widgets/base",
            "_model_module_version": "1.2.0",
            "_model_name": "LayoutModel",
            "_view_count": null,
            "_view_module": "@jupyter-widgets/base",
            "_view_module_version": "1.2.0",
            "_view_name": "LayoutView",
            "align_content": null,
            "align_items": null,
            "align_self": null,
            "border": null,
            "bottom": null,
            "display": null,
            "flex": null,
            "flex_flow": null,
            "grid_area": null,
            "grid_auto_columns": null,
            "grid_auto_flow": null,
            "grid_auto_rows": null,
            "grid_column": null,
            "grid_gap": null,
            "grid_row": null,
            "grid_template_areas": null,
            "grid_template_columns": null,
            "grid_template_rows": null,
            "height": null,
            "justify_content": null,
            "justify_items": null,
            "left": null,
            "margin": null,
            "max_height": null,
            "max_width": null,
            "min_height": null,
            "min_width": null,
            "object_fit": null,
            "object_position": null,
            "order": null,
            "overflow": null,
            "overflow_x": null,
            "overflow_y": null,
            "padding": null,
            "right": null,
            "top": null,
            "visibility": null,
            "width": null
          }
        },
        "c1f45616d0e0404eb6616f9e65f768a6": {
          "model_module": "@jupyter-widgets/base",
          "model_name": "LayoutModel",
          "model_module_version": "1.2.0",
          "state": {
            "_model_module": "@jupyter-widgets/base",
            "_model_module_version": "1.2.0",
            "_model_name": "LayoutModel",
            "_view_count": null,
            "_view_module": "@jupyter-widgets/base",
            "_view_module_version": "1.2.0",
            "_view_name": "LayoutView",
            "align_content": null,
            "align_items": null,
            "align_self": null,
            "border": null,
            "bottom": null,
            "display": null,
            "flex": null,
            "flex_flow": null,
            "grid_area": null,
            "grid_auto_columns": null,
            "grid_auto_flow": null,
            "grid_auto_rows": null,
            "grid_column": null,
            "grid_gap": null,
            "grid_row": null,
            "grid_template_areas": null,
            "grid_template_columns": null,
            "grid_template_rows": null,
            "height": null,
            "justify_content": null,
            "justify_items": null,
            "left": null,
            "margin": null,
            "max_height": null,
            "max_width": null,
            "min_height": null,
            "min_width": null,
            "object_fit": null,
            "object_position": null,
            "order": null,
            "overflow": null,
            "overflow_x": null,
            "overflow_y": null,
            "padding": null,
            "right": null,
            "top": null,
            "visibility": null,
            "width": null
          }
        },
        "265b313bfc774b1c94783ad09a18c31a": {
          "model_module": "@jupyter-widgets/controls",
          "model_name": "DescriptionStyleModel",
          "model_module_version": "1.5.0",
          "state": {
            "_model_module": "@jupyter-widgets/controls",
            "_model_module_version": "1.5.0",
            "_model_name": "DescriptionStyleModel",
            "_view_count": null,
            "_view_module": "@jupyter-widgets/base",
            "_view_module_version": "1.2.0",
            "_view_name": "StyleView",
            "description_width": ""
          }
        },
        "19d9d5471f8e4565ab4f6d2e5b63f8b1": {
          "model_module": "@jupyter-widgets/base",
          "model_name": "LayoutModel",
          "model_module_version": "1.2.0",
          "state": {
            "_model_module": "@jupyter-widgets/base",
            "_model_module_version": "1.2.0",
            "_model_name": "LayoutModel",
            "_view_count": null,
            "_view_module": "@jupyter-widgets/base",
            "_view_module_version": "1.2.0",
            "_view_name": "LayoutView",
            "align_content": null,
            "align_items": null,
            "align_self": null,
            "border": null,
            "bottom": null,
            "display": null,
            "flex": null,
            "flex_flow": null,
            "grid_area": null,
            "grid_auto_columns": null,
            "grid_auto_flow": null,
            "grid_auto_rows": null,
            "grid_column": null,
            "grid_gap": null,
            "grid_row": null,
            "grid_template_areas": null,
            "grid_template_columns": null,
            "grid_template_rows": null,
            "height": null,
            "justify_content": null,
            "justify_items": null,
            "left": null,
            "margin": null,
            "max_height": null,
            "max_width": null,
            "min_height": null,
            "min_width": null,
            "object_fit": null,
            "object_position": null,
            "order": null,
            "overflow": null,
            "overflow_x": null,
            "overflow_y": null,
            "padding": null,
            "right": null,
            "top": null,
            "visibility": null,
            "width": null
          }
        },
        "a67317c7f17a4da6ad43852b13f4d3bb": {
          "model_module": "@jupyter-widgets/controls",
          "model_name": "ProgressStyleModel",
          "model_module_version": "1.5.0",
          "state": {
            "_model_module": "@jupyter-widgets/controls",
            "_model_module_version": "1.5.0",
            "_model_name": "ProgressStyleModel",
            "_view_count": null,
            "_view_module": "@jupyter-widgets/base",
            "_view_module_version": "1.2.0",
            "_view_name": "StyleView",
            "bar_color": null,
            "description_width": ""
          }
        },
        "eb06299ad81a4d4cb7e1556133b754c0": {
          "model_module": "@jupyter-widgets/base",
          "model_name": "LayoutModel",
          "model_module_version": "1.2.0",
          "state": {
            "_model_module": "@jupyter-widgets/base",
            "_model_module_version": "1.2.0",
            "_model_name": "LayoutModel",
            "_view_count": null,
            "_view_module": "@jupyter-widgets/base",
            "_view_module_version": "1.2.0",
            "_view_name": "LayoutView",
            "align_content": null,
            "align_items": null,
            "align_self": null,
            "border": null,
            "bottom": null,
            "display": null,
            "flex": null,
            "flex_flow": null,
            "grid_area": null,
            "grid_auto_columns": null,
            "grid_auto_flow": null,
            "grid_auto_rows": null,
            "grid_column": null,
            "grid_gap": null,
            "grid_row": null,
            "grid_template_areas": null,
            "grid_template_columns": null,
            "grid_template_rows": null,
            "height": null,
            "justify_content": null,
            "justify_items": null,
            "left": null,
            "margin": null,
            "max_height": null,
            "max_width": null,
            "min_height": null,
            "min_width": null,
            "object_fit": null,
            "object_position": null,
            "order": null,
            "overflow": null,
            "overflow_x": null,
            "overflow_y": null,
            "padding": null,
            "right": null,
            "top": null,
            "visibility": null,
            "width": null
          }
        },
        "7d4332bbda9c48309d018b8351e2f593": {
          "model_module": "@jupyter-widgets/controls",
          "model_name": "DescriptionStyleModel",
          "model_module_version": "1.5.0",
          "state": {
            "_model_module": "@jupyter-widgets/controls",
            "_model_module_version": "1.5.0",
            "_model_name": "DescriptionStyleModel",
            "_view_count": null,
            "_view_module": "@jupyter-widgets/base",
            "_view_module_version": "1.2.0",
            "_view_name": "StyleView",
            "description_width": ""
          }
        }
      }
    }
  },
  "cells": [
    {
      "cell_type": "markdown",
      "source": [
        "Dataset link - https://www.kaggle.com/datasets/snehaanbhawal/resume-dataset"
      ],
      "metadata": {
        "id": "HiBzJV4iFVWT"
      }
    },
    {
      "cell_type": "code",
      "execution_count": null,
      "metadata": {
        "colab": {
          "base_uri": "https://localhost:8080/"
        },
        "id": "KFPg9bEEeMfO",
        "outputId": "f650209d-1ec6-48d4-c54b-c241d0e29cbe"
      },
      "outputs": [
        {
          "output_type": "stream",
          "name": "stdout",
          "text": [
            "Requirement already satisfied: transformers in /usr/local/lib/python3.10/dist-packages (4.42.4)\n",
            "Collecting datasets\n",
            "  Downloading datasets-2.21.0-py3-none-any.whl.metadata (21 kB)\n",
            "Collecting evaluate\n",
            "  Downloading evaluate-0.4.2-py3-none-any.whl.metadata (9.3 kB)\n",
            "Requirement already satisfied: accelerate in /usr/local/lib/python3.10/dist-packages (0.32.1)\n",
            "Requirement already satisfied: filelock in /usr/local/lib/python3.10/dist-packages (from transformers) (3.15.4)\n",
            "Requirement already satisfied: huggingface-hub<1.0,>=0.23.2 in /usr/local/lib/python3.10/dist-packages (from transformers) (0.23.5)\n",
            "Requirement already satisfied: numpy<2.0,>=1.17 in /usr/local/lib/python3.10/dist-packages (from transformers) (1.26.4)\n",
            "Requirement already satisfied: packaging>=20.0 in /usr/local/lib/python3.10/dist-packages (from transformers) (24.1)\n",
            "Requirement already satisfied: pyyaml>=5.1 in /usr/local/lib/python3.10/dist-packages (from transformers) (6.0.2)\n",
            "Requirement already satisfied: regex!=2019.12.17 in /usr/local/lib/python3.10/dist-packages (from transformers) (2024.5.15)\n",
            "Requirement already satisfied: requests in /usr/local/lib/python3.10/dist-packages (from transformers) (2.32.3)\n",
            "Requirement already satisfied: safetensors>=0.4.1 in /usr/local/lib/python3.10/dist-packages (from transformers) (0.4.4)\n",
            "Requirement already satisfied: tokenizers<0.20,>=0.19 in /usr/local/lib/python3.10/dist-packages (from transformers) (0.19.1)\n",
            "Requirement already satisfied: tqdm>=4.27 in /usr/local/lib/python3.10/dist-packages (from transformers) (4.66.5)\n",
            "Collecting pyarrow>=15.0.0 (from datasets)\n",
            "  Downloading pyarrow-17.0.0-cp310-cp310-manylinux_2_28_x86_64.whl.metadata (3.3 kB)\n",
            "Collecting dill<0.3.9,>=0.3.0 (from datasets)\n",
            "  Downloading dill-0.3.8-py3-none-any.whl.metadata (10 kB)\n",
            "Requirement already satisfied: pandas in /usr/local/lib/python3.10/dist-packages (from datasets) (2.1.4)\n",
            "Collecting xxhash (from datasets)\n",
            "  Downloading xxhash-3.5.0-cp310-cp310-manylinux_2_17_x86_64.manylinux2014_x86_64.whl.metadata (12 kB)\n",
            "Collecting multiprocess (from datasets)\n",
            "  Downloading multiprocess-0.70.16-py310-none-any.whl.metadata (7.2 kB)\n",
            "Requirement already satisfied: fsspec<=2024.6.1,>=2023.1.0 in /usr/local/lib/python3.10/dist-packages (from fsspec[http]<=2024.6.1,>=2023.1.0->datasets) (2024.6.1)\n",
            "Requirement already satisfied: aiohttp in /usr/local/lib/python3.10/dist-packages (from datasets) (3.10.5)\n",
            "Requirement already satisfied: psutil in /usr/local/lib/python3.10/dist-packages (from accelerate) (5.9.5)\n",
            "Requirement already satisfied: torch>=1.10.0 in /usr/local/lib/python3.10/dist-packages (from accelerate) (2.4.0+cu121)\n",
            "Requirement already satisfied: aiohappyeyeballs>=2.3.0 in /usr/local/lib/python3.10/dist-packages (from aiohttp->datasets) (2.4.0)\n",
            "Requirement already satisfied: aiosignal>=1.1.2 in /usr/local/lib/python3.10/dist-packages (from aiohttp->datasets) (1.3.1)\n",
            "Requirement already satisfied: attrs>=17.3.0 in /usr/local/lib/python3.10/dist-packages (from aiohttp->datasets) (24.2.0)\n",
            "Requirement already satisfied: frozenlist>=1.1.1 in /usr/local/lib/python3.10/dist-packages (from aiohttp->datasets) (1.4.1)\n",
            "Requirement already satisfied: multidict<7.0,>=4.5 in /usr/local/lib/python3.10/dist-packages (from aiohttp->datasets) (6.0.5)\n",
            "Requirement already satisfied: yarl<2.0,>=1.0 in /usr/local/lib/python3.10/dist-packages (from aiohttp->datasets) (1.9.4)\n",
            "Requirement already satisfied: async-timeout<5.0,>=4.0 in /usr/local/lib/python3.10/dist-packages (from aiohttp->datasets) (4.0.3)\n",
            "Requirement already satisfied: typing-extensions>=3.7.4.3 in /usr/local/lib/python3.10/dist-packages (from huggingface-hub<1.0,>=0.23.2->transformers) (4.12.2)\n",
            "Requirement already satisfied: charset-normalizer<4,>=2 in /usr/local/lib/python3.10/dist-packages (from requests->transformers) (3.3.2)\n",
            "Requirement already satisfied: idna<4,>=2.5 in /usr/local/lib/python3.10/dist-packages (from requests->transformers) (3.8)\n",
            "Requirement already satisfied: urllib3<3,>=1.21.1 in /usr/local/lib/python3.10/dist-packages (from requests->transformers) (2.0.7)\n",
            "Requirement already satisfied: certifi>=2017.4.17 in /usr/local/lib/python3.10/dist-packages (from requests->transformers) (2024.7.4)\n",
            "Requirement already satisfied: sympy in /usr/local/lib/python3.10/dist-packages (from torch>=1.10.0->accelerate) (1.13.2)\n",
            "Requirement already satisfied: networkx in /usr/local/lib/python3.10/dist-packages (from torch>=1.10.0->accelerate) (3.3)\n",
            "Requirement already satisfied: jinja2 in /usr/local/lib/python3.10/dist-packages (from torch>=1.10.0->accelerate) (3.1.4)\n",
            "Requirement already satisfied: python-dateutil>=2.8.2 in /usr/local/lib/python3.10/dist-packages (from pandas->datasets) (2.8.2)\n",
            "Requirement already satisfied: pytz>=2020.1 in /usr/local/lib/python3.10/dist-packages (from pandas->datasets) (2024.1)\n",
            "Requirement already satisfied: tzdata>=2022.1 in /usr/local/lib/python3.10/dist-packages (from pandas->datasets) (2024.1)\n",
            "Requirement already satisfied: six>=1.5 in /usr/local/lib/python3.10/dist-packages (from python-dateutil>=2.8.2->pandas->datasets) (1.16.0)\n",
            "Requirement already satisfied: MarkupSafe>=2.0 in /usr/local/lib/python3.10/dist-packages (from jinja2->torch>=1.10.0->accelerate) (2.1.5)\n",
            "Requirement already satisfied: mpmath<1.4,>=1.1.0 in /usr/local/lib/python3.10/dist-packages (from sympy->torch>=1.10.0->accelerate) (1.3.0)\n",
            "Downloading datasets-2.21.0-py3-none-any.whl (527 kB)\n",
            "\u001b[2K   \u001b[90m━━━━━━━━━━━━━━━━━━━━━━━━━━━━━━━━━━━━━━━━\u001b[0m \u001b[32m527.3/527.3 kB\u001b[0m \u001b[31m7.6 MB/s\u001b[0m eta \u001b[36m0:00:00\u001b[0m\n",
            "\u001b[?25hDownloading evaluate-0.4.2-py3-none-any.whl (84 kB)\n",
            "\u001b[2K   \u001b[90m━━━━━━━━━━━━━━━━━━━━━━━━━━━━━━━━━━━━━━━━\u001b[0m \u001b[32m84.1/84.1 kB\u001b[0m \u001b[31m6.7 MB/s\u001b[0m eta \u001b[36m0:00:00\u001b[0m\n",
            "\u001b[?25hDownloading dill-0.3.8-py3-none-any.whl (116 kB)\n",
            "\u001b[2K   \u001b[90m━━━━━━━━━━━━━━━━━━━━━━━━━━━━━━━━━━━━━━━━\u001b[0m \u001b[32m116.3/116.3 kB\u001b[0m \u001b[31m7.6 MB/s\u001b[0m eta \u001b[36m0:00:00\u001b[0m\n",
            "\u001b[?25hDownloading pyarrow-17.0.0-cp310-cp310-manylinux_2_28_x86_64.whl (39.9 MB)\n",
            "\u001b[2K   \u001b[90m━━━━━━━━━━━━━━━━━━━━━━━━━━━━━━━━━━━━━━━━\u001b[0m \u001b[32m39.9/39.9 MB\u001b[0m \u001b[31m11.6 MB/s\u001b[0m eta \u001b[36m0:00:00\u001b[0m\n",
            "\u001b[?25hDownloading multiprocess-0.70.16-py310-none-any.whl (134 kB)\n",
            "\u001b[2K   \u001b[90m━━━━━━━━━━━━━━━━━━━━━━━━━━━━━━━━━━━━━━━━\u001b[0m \u001b[32m134.8/134.8 kB\u001b[0m \u001b[31m8.7 MB/s\u001b[0m eta \u001b[36m0:00:00\u001b[0m\n",
            "\u001b[?25hDownloading xxhash-3.5.0-cp310-cp310-manylinux_2_17_x86_64.manylinux2014_x86_64.whl (194 kB)\n",
            "\u001b[2K   \u001b[90m━━━━━━━━━━━━━━━━━━━━━━━━━━━━━━━━━━━━━━━━\u001b[0m \u001b[32m194.1/194.1 kB\u001b[0m \u001b[31m13.0 MB/s\u001b[0m eta \u001b[36m0:00:00\u001b[0m\n",
            "\u001b[?25hInstalling collected packages: xxhash, pyarrow, dill, multiprocess, datasets, evaluate\n",
            "  Attempting uninstall: pyarrow\n",
            "    Found existing installation: pyarrow 14.0.2\n",
            "    Uninstalling pyarrow-14.0.2:\n",
            "      Successfully uninstalled pyarrow-14.0.2\n",
            "\u001b[31mERROR: pip's dependency resolver does not currently take into account all the packages that are installed. This behaviour is the source of the following dependency conflicts.\n",
            "cudf-cu12 24.4.1 requires pyarrow<15.0.0a0,>=14.0.1, but you have pyarrow 17.0.0 which is incompatible.\n",
            "ibis-framework 8.0.0 requires pyarrow<16,>=2, but you have pyarrow 17.0.0 which is incompatible.\u001b[0m\u001b[31m\n",
            "\u001b[0mSuccessfully installed datasets-2.21.0 dill-0.3.8 evaluate-0.4.2 multiprocess-0.70.16 pyarrow-17.0.0 xxhash-3.5.0\n"
          ]
        }
      ],
      "source": [
        "!pip install transformers datasets evaluate accelerate"
      ]
    },
    {
      "cell_type": "code",
      "source": [
        "!pip install --upgrade accelerate\n",
        "!pip uninstall -y transformers accelerate\n",
        "!pip install transformers accelerate"
      ],
      "metadata": {
        "colab": {
          "base_uri": "https://localhost:8080/"
        },
        "id": "hjFvEBCueOa5",
        "outputId": "d3d0c29f-5dff-469f-a1dc-ac3cacc2468c"
      },
      "execution_count": null,
      "outputs": [
        {
          "output_type": "stream",
          "name": "stdout",
          "text": [
            "Requirement already satisfied: accelerate in /usr/local/lib/python3.10/dist-packages (0.32.1)\n",
            "Collecting accelerate\n",
            "  Downloading accelerate-0.34.0-py3-none-any.whl.metadata (19 kB)\n",
            "Requirement already satisfied: numpy<3.0.0,>=1.17 in /usr/local/lib/python3.10/dist-packages (from accelerate) (1.26.4)\n",
            "Requirement already satisfied: packaging>=20.0 in /usr/local/lib/python3.10/dist-packages (from accelerate) (24.1)\n",
            "Requirement already satisfied: psutil in /usr/local/lib/python3.10/dist-packages (from accelerate) (5.9.5)\n",
            "Requirement already satisfied: pyyaml in /usr/local/lib/python3.10/dist-packages (from accelerate) (6.0.2)\n",
            "Requirement already satisfied: torch>=1.10.0 in /usr/local/lib/python3.10/dist-packages (from accelerate) (2.4.0+cu121)\n",
            "Requirement already satisfied: huggingface-hub>=0.21.0 in /usr/local/lib/python3.10/dist-packages (from accelerate) (0.23.5)\n",
            "Requirement already satisfied: safetensors>=0.4.3 in /usr/local/lib/python3.10/dist-packages (from accelerate) (0.4.4)\n",
            "Requirement already satisfied: filelock in /usr/local/lib/python3.10/dist-packages (from huggingface-hub>=0.21.0->accelerate) (3.15.4)\n",
            "Requirement already satisfied: fsspec>=2023.5.0 in /usr/local/lib/python3.10/dist-packages (from huggingface-hub>=0.21.0->accelerate) (2024.6.1)\n",
            "Requirement already satisfied: requests in /usr/local/lib/python3.10/dist-packages (from huggingface-hub>=0.21.0->accelerate) (2.32.3)\n",
            "Requirement already satisfied: tqdm>=4.42.1 in /usr/local/lib/python3.10/dist-packages (from huggingface-hub>=0.21.0->accelerate) (4.66.5)\n",
            "Requirement already satisfied: typing-extensions>=3.7.4.3 in /usr/local/lib/python3.10/dist-packages (from huggingface-hub>=0.21.0->accelerate) (4.12.2)\n",
            "Requirement already satisfied: sympy in /usr/local/lib/python3.10/dist-packages (from torch>=1.10.0->accelerate) (1.13.2)\n",
            "Requirement already satisfied: networkx in /usr/local/lib/python3.10/dist-packages (from torch>=1.10.0->accelerate) (3.3)\n",
            "Requirement already satisfied: jinja2 in /usr/local/lib/python3.10/dist-packages (from torch>=1.10.0->accelerate) (3.1.4)\n",
            "Requirement already satisfied: MarkupSafe>=2.0 in /usr/local/lib/python3.10/dist-packages (from jinja2->torch>=1.10.0->accelerate) (2.1.5)\n",
            "Requirement already satisfied: charset-normalizer<4,>=2 in /usr/local/lib/python3.10/dist-packages (from requests->huggingface-hub>=0.21.0->accelerate) (3.3.2)\n",
            "Requirement already satisfied: idna<4,>=2.5 in /usr/local/lib/python3.10/dist-packages (from requests->huggingface-hub>=0.21.0->accelerate) (3.8)\n",
            "Requirement already satisfied: urllib3<3,>=1.21.1 in /usr/local/lib/python3.10/dist-packages (from requests->huggingface-hub>=0.21.0->accelerate) (2.0.7)\n",
            "Requirement already satisfied: certifi>=2017.4.17 in /usr/local/lib/python3.10/dist-packages (from requests->huggingface-hub>=0.21.0->accelerate) (2024.7.4)\n",
            "Requirement already satisfied: mpmath<1.4,>=1.1.0 in /usr/local/lib/python3.10/dist-packages (from sympy->torch>=1.10.0->accelerate) (1.3.0)\n",
            "Downloading accelerate-0.34.0-py3-none-any.whl (324 kB)\n",
            "\u001b[2K   \u001b[90m━━━━━━━━━━━━━━━━━━━━━━━━━━━━━━━━━━━━━━━━\u001b[0m \u001b[32m324.3/324.3 kB\u001b[0m \u001b[31m11.4 MB/s\u001b[0m eta \u001b[36m0:00:00\u001b[0m\n",
            "\u001b[?25hInstalling collected packages: accelerate\n",
            "  Attempting uninstall: accelerate\n",
            "    Found existing installation: accelerate 0.32.1\n",
            "    Uninstalling accelerate-0.32.1:\n",
            "      Successfully uninstalled accelerate-0.32.1\n",
            "Successfully installed accelerate-0.34.0\n",
            "Found existing installation: transformers 4.42.4\n",
            "Uninstalling transformers-4.42.4:\n",
            "  Successfully uninstalled transformers-4.42.4\n",
            "Found existing installation: accelerate 0.34.0\n",
            "Uninstalling accelerate-0.34.0:\n",
            "  Successfully uninstalled accelerate-0.34.0\n",
            "Collecting transformers\n",
            "  Downloading transformers-4.44.2-py3-none-any.whl.metadata (43 kB)\n",
            "\u001b[2K     \u001b[90m━━━━━━━━━━━━━━━━━━━━━━━━━━━━━━━━━━━━━━━━\u001b[0m \u001b[32m43.7/43.7 kB\u001b[0m \u001b[31m2.6 MB/s\u001b[0m eta \u001b[36m0:00:00\u001b[0m\n",
            "\u001b[?25hCollecting accelerate\n",
            "  Using cached accelerate-0.34.0-py3-none-any.whl.metadata (19 kB)\n",
            "Requirement already satisfied: filelock in /usr/local/lib/python3.10/dist-packages (from transformers) (3.15.4)\n",
            "Requirement already satisfied: huggingface-hub<1.0,>=0.23.2 in /usr/local/lib/python3.10/dist-packages (from transformers) (0.23.5)\n",
            "Requirement already satisfied: numpy>=1.17 in /usr/local/lib/python3.10/dist-packages (from transformers) (1.26.4)\n",
            "Requirement already satisfied: packaging>=20.0 in /usr/local/lib/python3.10/dist-packages (from transformers) (24.1)\n",
            "Requirement already satisfied: pyyaml>=5.1 in /usr/local/lib/python3.10/dist-packages (from transformers) (6.0.2)\n",
            "Requirement already satisfied: regex!=2019.12.17 in /usr/local/lib/python3.10/dist-packages (from transformers) (2024.5.15)\n",
            "Requirement already satisfied: requests in /usr/local/lib/python3.10/dist-packages (from transformers) (2.32.3)\n",
            "Requirement already satisfied: safetensors>=0.4.1 in /usr/local/lib/python3.10/dist-packages (from transformers) (0.4.4)\n",
            "Requirement already satisfied: tokenizers<0.20,>=0.19 in /usr/local/lib/python3.10/dist-packages (from transformers) (0.19.1)\n",
            "Requirement already satisfied: tqdm>=4.27 in /usr/local/lib/python3.10/dist-packages (from transformers) (4.66.5)\n",
            "Requirement already satisfied: psutil in /usr/local/lib/python3.10/dist-packages (from accelerate) (5.9.5)\n",
            "Requirement already satisfied: torch>=1.10.0 in /usr/local/lib/python3.10/dist-packages (from accelerate) (2.4.0+cu121)\n",
            "Requirement already satisfied: fsspec>=2023.5.0 in /usr/local/lib/python3.10/dist-packages (from huggingface-hub<1.0,>=0.23.2->transformers) (2024.6.1)\n",
            "Requirement already satisfied: typing-extensions>=3.7.4.3 in /usr/local/lib/python3.10/dist-packages (from huggingface-hub<1.0,>=0.23.2->transformers) (4.12.2)\n",
            "Requirement already satisfied: sympy in /usr/local/lib/python3.10/dist-packages (from torch>=1.10.0->accelerate) (1.13.2)\n",
            "Requirement already satisfied: networkx in /usr/local/lib/python3.10/dist-packages (from torch>=1.10.0->accelerate) (3.3)\n",
            "Requirement already satisfied: jinja2 in /usr/local/lib/python3.10/dist-packages (from torch>=1.10.0->accelerate) (3.1.4)\n",
            "Requirement already satisfied: charset-normalizer<4,>=2 in /usr/local/lib/python3.10/dist-packages (from requests->transformers) (3.3.2)\n",
            "Requirement already satisfied: idna<4,>=2.5 in /usr/local/lib/python3.10/dist-packages (from requests->transformers) (3.8)\n",
            "Requirement already satisfied: urllib3<3,>=1.21.1 in /usr/local/lib/python3.10/dist-packages (from requests->transformers) (2.0.7)\n",
            "Requirement already satisfied: certifi>=2017.4.17 in /usr/local/lib/python3.10/dist-packages (from requests->transformers) (2024.7.4)\n",
            "Requirement already satisfied: MarkupSafe>=2.0 in /usr/local/lib/python3.10/dist-packages (from jinja2->torch>=1.10.0->accelerate) (2.1.5)\n",
            "Requirement already satisfied: mpmath<1.4,>=1.1.0 in /usr/local/lib/python3.10/dist-packages (from sympy->torch>=1.10.0->accelerate) (1.3.0)\n",
            "Downloading transformers-4.44.2-py3-none-any.whl (9.5 MB)\n",
            "\u001b[2K   \u001b[90m━━━━━━━━━━━━━━━━━━━━━━━━━━━━━━━━━━━━━━━━\u001b[0m \u001b[32m9.5/9.5 MB\u001b[0m \u001b[31m53.4 MB/s\u001b[0m eta \u001b[36m0:00:00\u001b[0m\n",
            "\u001b[?25hUsing cached accelerate-0.34.0-py3-none-any.whl (324 kB)\n",
            "Installing collected packages: accelerate, transformers\n",
            "Successfully installed accelerate-0.34.0 transformers-4.44.2\n"
          ]
        }
      ]
    },
    {
      "cell_type": "code",
      "source": [
        "from google.colab import drive\n",
        "drive.mount('/content/drive')"
      ],
      "metadata": {
        "colab": {
          "base_uri": "https://localhost:8080/"
        },
        "id": "pfMmHkRKfj7x",
        "outputId": "8cf63c4b-fc6b-43cc-81a3-83b6cd2245cb"
      },
      "execution_count": null,
      "outputs": [
        {
          "output_type": "stream",
          "name": "stdout",
          "text": [
            "Mounted at /content/drive\n"
          ]
        }
      ]
    },
    {
      "cell_type": "code",
      "source": [
        "import pandas as pd\n",
        "df = pd.read_csv('/content/drive/MyDrive/resume_classification/Resume.csv')\n",
        "#df =df[:1000]"
      ],
      "metadata": {
        "id": "YKiD0nOcegHY"
      },
      "execution_count": null,
      "outputs": []
    },
    {
      "cell_type": "code",
      "source": [
        "labels = pd.Series(df[\"Category\"].unique())\n",
        "num_labels = len(labels)\n",
        "id2label = labels.to_dict()\n",
        "id2label"
      ],
      "metadata": {
        "colab": {
          "base_uri": "https://localhost:8080/"
        },
        "id": "u0UouW4E7a07",
        "outputId": "3623aadc-7f9a-4349-fe8c-5b10960d2560"
      },
      "execution_count": null,
      "outputs": [
        {
          "output_type": "execute_result",
          "data": {
            "text/plain": [
              "{0: 'HR',\n",
              " 1: 'DESIGNER',\n",
              " 2: 'INFORMATION-TECHNOLOGY',\n",
              " 3: 'TEACHER',\n",
              " 4: 'ADVOCATE',\n",
              " 5: 'BUSINESS-DEVELOPMENT',\n",
              " 6: 'HEALTHCARE',\n",
              " 7: 'FITNESS',\n",
              " 8: 'AGRICULTURE',\n",
              " 9: 'BPO',\n",
              " 10: 'SALES',\n",
              " 11: 'CONSULTANT',\n",
              " 12: 'DIGITAL-MEDIA',\n",
              " 13: 'AUTOMOBILE',\n",
              " 14: 'CHEF',\n",
              " 15: 'FINANCE',\n",
              " 16: 'APPAREL',\n",
              " 17: 'ENGINEERING',\n",
              " 18: 'ACCOUNTANT',\n",
              " 19: 'CONSTRUCTION',\n",
              " 20: 'PUBLIC-RELATIONS',\n",
              " 21: 'BANKING',\n",
              " 22: 'ARTS',\n",
              " 23: 'AVIATION'}"
            ]
          },
          "metadata": {},
          "execution_count": 23
        }
      ]
    },
    {
      "cell_type": "code",
      "source": [
        "label2id = {v:k for k,v in id2label.items()}\n",
        "label2id"
      ],
      "metadata": {
        "colab": {
          "base_uri": "https://localhost:8080/"
        },
        "id": "Gt2EbFgS7jlO",
        "outputId": "1fe8a5da-282d-4f93-f85e-cdf6850a2441"
      },
      "execution_count": null,
      "outputs": [
        {
          "output_type": "execute_result",
          "data": {
            "text/plain": [
              "{'HR': 0,\n",
              " 'DESIGNER': 1,\n",
              " 'INFORMATION-TECHNOLOGY': 2,\n",
              " 'TEACHER': 3,\n",
              " 'ADVOCATE': 4,\n",
              " 'BUSINESS-DEVELOPMENT': 5,\n",
              " 'HEALTHCARE': 6,\n",
              " 'FITNESS': 7,\n",
              " 'AGRICULTURE': 8,\n",
              " 'BPO': 9,\n",
              " 'SALES': 10,\n",
              " 'CONSULTANT': 11,\n",
              " 'DIGITAL-MEDIA': 12,\n",
              " 'AUTOMOBILE': 13,\n",
              " 'CHEF': 14,\n",
              " 'FINANCE': 15,\n",
              " 'APPAREL': 16,\n",
              " 'ENGINEERING': 17,\n",
              " 'ACCOUNTANT': 18,\n",
              " 'CONSTRUCTION': 19,\n",
              " 'PUBLIC-RELATIONS': 20,\n",
              " 'BANKING': 21,\n",
              " 'ARTS': 22,\n",
              " 'AVIATION': 23}"
            ]
          },
          "metadata": {},
          "execution_count": 24
        }
      ]
    },
    {
      "cell_type": "code",
      "source": [
        "df[\"label\"] = df[\"Category\"].map(label2id)\n",
        "df = df.drop(\"Category\",axis=1)\n",
        "df.tail()"
      ],
      "metadata": {
        "colab": {
          "base_uri": "https://localhost:8080/",
          "height": 206
        },
        "id": "XLiQJ_QK7Nmt",
        "outputId": "e302dbd2-a73c-4a6c-8262-eec4416b4d26"
      },
      "execution_count": null,
      "outputs": [
        {
          "output_type": "execute_result",
          "data": {
            "text/plain": [
              "            ID                                         Resume_str  \\\n",
              "2479  99416532           RANK: SGT/E-5 NON- COMMISSIONED OFFIC...   \n",
              "2480  24589765           GOVERNMENT RELATIONS, COMMUNICATIONS ...   \n",
              "2481  31605080           GEEK SQUAD AGENT         Professional...   \n",
              "2482  21190805           PROGRAM DIRECTOR / OFFICE MANAGER    ...   \n",
              "2483  37473139           STOREKEEPER II       Professional Sum...   \n",
              "\n",
              "                                            Resume_html  label  \n",
              "2479  <div class=\"fontsize fontface vmargins hmargin...     23  \n",
              "2480  <div class=\"fontsize fontface vmargins hmargin...     23  \n",
              "2481  <div class=\"fontsize fontface vmargins hmargin...     23  \n",
              "2482  <div class=\"fontsize fontface vmargins hmargin...     23  \n",
              "2483  <div class=\"fontsize fontface vmargins hmargin...     23  "
            ],
            "text/html": [
              "\n",
              "  <div id=\"df-8f77f1e5-58d8-4997-a3d6-8749e4db7529\" class=\"colab-df-container\">\n",
              "    <div>\n",
              "<style scoped>\n",
              "    .dataframe tbody tr th:only-of-type {\n",
              "        vertical-align: middle;\n",
              "    }\n",
              "\n",
              "    .dataframe tbody tr th {\n",
              "        vertical-align: top;\n",
              "    }\n",
              "\n",
              "    .dataframe thead th {\n",
              "        text-align: right;\n",
              "    }\n",
              "</style>\n",
              "<table border=\"1\" class=\"dataframe\">\n",
              "  <thead>\n",
              "    <tr style=\"text-align: right;\">\n",
              "      <th></th>\n",
              "      <th>ID</th>\n",
              "      <th>Resume_str</th>\n",
              "      <th>Resume_html</th>\n",
              "      <th>label</th>\n",
              "    </tr>\n",
              "  </thead>\n",
              "  <tbody>\n",
              "    <tr>\n",
              "      <th>2479</th>\n",
              "      <td>99416532</td>\n",
              "      <td>RANK: SGT/E-5 NON- COMMISSIONED OFFIC...</td>\n",
              "      <td>&lt;div class=\"fontsize fontface vmargins hmargin...</td>\n",
              "      <td>23</td>\n",
              "    </tr>\n",
              "    <tr>\n",
              "      <th>2480</th>\n",
              "      <td>24589765</td>\n",
              "      <td>GOVERNMENT RELATIONS, COMMUNICATIONS ...</td>\n",
              "      <td>&lt;div class=\"fontsize fontface vmargins hmargin...</td>\n",
              "      <td>23</td>\n",
              "    </tr>\n",
              "    <tr>\n",
              "      <th>2481</th>\n",
              "      <td>31605080</td>\n",
              "      <td>GEEK SQUAD AGENT         Professional...</td>\n",
              "      <td>&lt;div class=\"fontsize fontface vmargins hmargin...</td>\n",
              "      <td>23</td>\n",
              "    </tr>\n",
              "    <tr>\n",
              "      <th>2482</th>\n",
              "      <td>21190805</td>\n",
              "      <td>PROGRAM DIRECTOR / OFFICE MANAGER    ...</td>\n",
              "      <td>&lt;div class=\"fontsize fontface vmargins hmargin...</td>\n",
              "      <td>23</td>\n",
              "    </tr>\n",
              "    <tr>\n",
              "      <th>2483</th>\n",
              "      <td>37473139</td>\n",
              "      <td>STOREKEEPER II       Professional Sum...</td>\n",
              "      <td>&lt;div class=\"fontsize fontface vmargins hmargin...</td>\n",
              "      <td>23</td>\n",
              "    </tr>\n",
              "  </tbody>\n",
              "</table>\n",
              "</div>\n",
              "    <div class=\"colab-df-buttons\">\n",
              "\n",
              "  <div class=\"colab-df-container\">\n",
              "    <button class=\"colab-df-convert\" onclick=\"convertToInteractive('df-8f77f1e5-58d8-4997-a3d6-8749e4db7529')\"\n",
              "            title=\"Convert this dataframe to an interactive table.\"\n",
              "            style=\"display:none;\">\n",
              "\n",
              "  <svg xmlns=\"http://www.w3.org/2000/svg\" height=\"24px\" viewBox=\"0 -960 960 960\">\n",
              "    <path d=\"M120-120v-720h720v720H120Zm60-500h600v-160H180v160Zm220 220h160v-160H400v160Zm0 220h160v-160H400v160ZM180-400h160v-160H180v160Zm440 0h160v-160H620v160ZM180-180h160v-160H180v160Zm440 0h160v-160H620v160Z\"/>\n",
              "  </svg>\n",
              "    </button>\n",
              "\n",
              "  <style>\n",
              "    .colab-df-container {\n",
              "      display:flex;\n",
              "      gap: 12px;\n",
              "    }\n",
              "\n",
              "    .colab-df-convert {\n",
              "      background-color: #E8F0FE;\n",
              "      border: none;\n",
              "      border-radius: 50%;\n",
              "      cursor: pointer;\n",
              "      display: none;\n",
              "      fill: #1967D2;\n",
              "      height: 32px;\n",
              "      padding: 0 0 0 0;\n",
              "      width: 32px;\n",
              "    }\n",
              "\n",
              "    .colab-df-convert:hover {\n",
              "      background-color: #E2EBFA;\n",
              "      box-shadow: 0px 1px 2px rgba(60, 64, 67, 0.3), 0px 1px 3px 1px rgba(60, 64, 67, 0.15);\n",
              "      fill: #174EA6;\n",
              "    }\n",
              "\n",
              "    .colab-df-buttons div {\n",
              "      margin-bottom: 4px;\n",
              "    }\n",
              "\n",
              "    [theme=dark] .colab-df-convert {\n",
              "      background-color: #3B4455;\n",
              "      fill: #D2E3FC;\n",
              "    }\n",
              "\n",
              "    [theme=dark] .colab-df-convert:hover {\n",
              "      background-color: #434B5C;\n",
              "      box-shadow: 0px 1px 3px 1px rgba(0, 0, 0, 0.15);\n",
              "      filter: drop-shadow(0px 1px 2px rgba(0, 0, 0, 0.3));\n",
              "      fill: #FFFFFF;\n",
              "    }\n",
              "  </style>\n",
              "\n",
              "    <script>\n",
              "      const buttonEl =\n",
              "        document.querySelector('#df-8f77f1e5-58d8-4997-a3d6-8749e4db7529 button.colab-df-convert');\n",
              "      buttonEl.style.display =\n",
              "        google.colab.kernel.accessAllowed ? 'block' : 'none';\n",
              "\n",
              "      async function convertToInteractive(key) {\n",
              "        const element = document.querySelector('#df-8f77f1e5-58d8-4997-a3d6-8749e4db7529');\n",
              "        const dataTable =\n",
              "          await google.colab.kernel.invokeFunction('convertToInteractive',\n",
              "                                                    [key], {});\n",
              "        if (!dataTable) return;\n",
              "\n",
              "        const docLinkHtml = 'Like what you see? Visit the ' +\n",
              "          '<a target=\"_blank\" href=https://colab.research.google.com/notebooks/data_table.ipynb>data table notebook</a>'\n",
              "          + ' to learn more about interactive tables.';\n",
              "        element.innerHTML = '';\n",
              "        dataTable['output_type'] = 'display_data';\n",
              "        await google.colab.output.renderOutput(dataTable, element);\n",
              "        const docLink = document.createElement('div');\n",
              "        docLink.innerHTML = docLinkHtml;\n",
              "        element.appendChild(docLink);\n",
              "      }\n",
              "    </script>\n",
              "  </div>\n",
              "\n",
              "\n",
              "<div id=\"df-412509ce-3d3f-42ec-84d7-f4cfa5cbf186\">\n",
              "  <button class=\"colab-df-quickchart\" onclick=\"quickchart('df-412509ce-3d3f-42ec-84d7-f4cfa5cbf186')\"\n",
              "            title=\"Suggest charts\"\n",
              "            style=\"display:none;\">\n",
              "\n",
              "<svg xmlns=\"http://www.w3.org/2000/svg\" height=\"24px\"viewBox=\"0 0 24 24\"\n",
              "     width=\"24px\">\n",
              "    <g>\n",
              "        <path d=\"M19 3H5c-1.1 0-2 .9-2 2v14c0 1.1.9 2 2 2h14c1.1 0 2-.9 2-2V5c0-1.1-.9-2-2-2zM9 17H7v-7h2v7zm4 0h-2V7h2v10zm4 0h-2v-4h2v4z\"/>\n",
              "    </g>\n",
              "</svg>\n",
              "  </button>\n",
              "\n",
              "<style>\n",
              "  .colab-df-quickchart {\n",
              "      --bg-color: #E8F0FE;\n",
              "      --fill-color: #1967D2;\n",
              "      --hover-bg-color: #E2EBFA;\n",
              "      --hover-fill-color: #174EA6;\n",
              "      --disabled-fill-color: #AAA;\n",
              "      --disabled-bg-color: #DDD;\n",
              "  }\n",
              "\n",
              "  [theme=dark] .colab-df-quickchart {\n",
              "      --bg-color: #3B4455;\n",
              "      --fill-color: #D2E3FC;\n",
              "      --hover-bg-color: #434B5C;\n",
              "      --hover-fill-color: #FFFFFF;\n",
              "      --disabled-bg-color: #3B4455;\n",
              "      --disabled-fill-color: #666;\n",
              "  }\n",
              "\n",
              "  .colab-df-quickchart {\n",
              "    background-color: var(--bg-color);\n",
              "    border: none;\n",
              "    border-radius: 50%;\n",
              "    cursor: pointer;\n",
              "    display: none;\n",
              "    fill: var(--fill-color);\n",
              "    height: 32px;\n",
              "    padding: 0;\n",
              "    width: 32px;\n",
              "  }\n",
              "\n",
              "  .colab-df-quickchart:hover {\n",
              "    background-color: var(--hover-bg-color);\n",
              "    box-shadow: 0 1px 2px rgba(60, 64, 67, 0.3), 0 1px 3px 1px rgba(60, 64, 67, 0.15);\n",
              "    fill: var(--button-hover-fill-color);\n",
              "  }\n",
              "\n",
              "  .colab-df-quickchart-complete:disabled,\n",
              "  .colab-df-quickchart-complete:disabled:hover {\n",
              "    background-color: var(--disabled-bg-color);\n",
              "    fill: var(--disabled-fill-color);\n",
              "    box-shadow: none;\n",
              "  }\n",
              "\n",
              "  .colab-df-spinner {\n",
              "    border: 2px solid var(--fill-color);\n",
              "    border-color: transparent;\n",
              "    border-bottom-color: var(--fill-color);\n",
              "    animation:\n",
              "      spin 1s steps(1) infinite;\n",
              "  }\n",
              "\n",
              "  @keyframes spin {\n",
              "    0% {\n",
              "      border-color: transparent;\n",
              "      border-bottom-color: var(--fill-color);\n",
              "      border-left-color: var(--fill-color);\n",
              "    }\n",
              "    20% {\n",
              "      border-color: transparent;\n",
              "      border-left-color: var(--fill-color);\n",
              "      border-top-color: var(--fill-color);\n",
              "    }\n",
              "    30% {\n",
              "      border-color: transparent;\n",
              "      border-left-color: var(--fill-color);\n",
              "      border-top-color: var(--fill-color);\n",
              "      border-right-color: var(--fill-color);\n",
              "    }\n",
              "    40% {\n",
              "      border-color: transparent;\n",
              "      border-right-color: var(--fill-color);\n",
              "      border-top-color: var(--fill-color);\n",
              "    }\n",
              "    60% {\n",
              "      border-color: transparent;\n",
              "      border-right-color: var(--fill-color);\n",
              "    }\n",
              "    80% {\n",
              "      border-color: transparent;\n",
              "      border-right-color: var(--fill-color);\n",
              "      border-bottom-color: var(--fill-color);\n",
              "    }\n",
              "    90% {\n",
              "      border-color: transparent;\n",
              "      border-bottom-color: var(--fill-color);\n",
              "    }\n",
              "  }\n",
              "</style>\n",
              "\n",
              "  <script>\n",
              "    async function quickchart(key) {\n",
              "      const quickchartButtonEl =\n",
              "        document.querySelector('#' + key + ' button');\n",
              "      quickchartButtonEl.disabled = true;  // To prevent multiple clicks.\n",
              "      quickchartButtonEl.classList.add('colab-df-spinner');\n",
              "      try {\n",
              "        const charts = await google.colab.kernel.invokeFunction(\n",
              "            'suggestCharts', [key], {});\n",
              "      } catch (error) {\n",
              "        console.error('Error during call to suggestCharts:', error);\n",
              "      }\n",
              "      quickchartButtonEl.classList.remove('colab-df-spinner');\n",
              "      quickchartButtonEl.classList.add('colab-df-quickchart-complete');\n",
              "    }\n",
              "    (() => {\n",
              "      let quickchartButtonEl =\n",
              "        document.querySelector('#df-412509ce-3d3f-42ec-84d7-f4cfa5cbf186 button');\n",
              "      quickchartButtonEl.style.display =\n",
              "        google.colab.kernel.accessAllowed ? 'block' : 'none';\n",
              "    })();\n",
              "  </script>\n",
              "</div>\n",
              "\n",
              "    </div>\n",
              "  </div>\n"
            ],
            "application/vnd.google.colaboratory.intrinsic+json": {
              "type": "dataframe",
              "summary": "{\n  \"name\": \"df\",\n  \"rows\": 5,\n  \"fields\": [\n    {\n      \"column\": \"ID\",\n      \"properties\": {\n        \"dtype\": \"number\",\n        \"std\": 32240068,\n        \"min\": 21190805,\n        \"max\": 99416532,\n        \"num_unique_values\": 5,\n        \"samples\": [\n          24589765,\n          37473139,\n          31605080\n        ],\n        \"semantic_type\": \"\",\n        \"description\": \"\"\n      }\n    },\n    {\n      \"column\": \"Resume_str\",\n      \"properties\": {\n        \"dtype\": \"string\",\n        \"num_unique_values\": 5,\n        \"samples\": [\n          \"         GOVERNMENT RELATIONS, COMMUNICATIONS AND ORGANIZATIONAL DEVELOPMENT DIRECTOR       Professional Summary    Strategically grounded, highly experienced leader* Quickly establishes trust and effective working relationships * Focus on effective communication between teams * Creative, articulate and resourceful * Successful at team mentoring and develop individuals into leadership *Innovative, energetic and a good sense of humor      Skills                    Work History     01/2014   to   Current     Government Relations, Communications and Organizational Development Director      Company Name   \\u2013   City  ,   State      Government Relations and Communications WSDOT Toll Division Leadership: Develops strong partnerships with functional teams throughout WSDOT and region in delivering toll projects.  Oversees implementation of continuous improvement and Lean project.  Represents the division with the media, government and industry representatives, and citizens.  Government Relations: Serves as a strategic advisor to department executives on key tolling, communication and legislative strategies.  Communications: Leads strategic communication and government relations delivery plans with internal employees and stakeholders for the WSDOT Toll Division.  Distills complex financial and technical information into clear graphic storytelling and understandable communication.  Facilitates resolution workshops on policy conflicts between internal and cross functional partners.  Leads external communications team leverage of current social media tools.  Team:  2 managers, 8 staff Director of Budget and Program Development Washington State Ferries Leadership:  Built strong partnerships between diverse internal partners and external stakeholders.  Cultivated Lean initiatives and projects in partnership with agency executives.  Developed organization's performance management program.  Trained, coached and mentored staff to ensure smooth adoption of new program.  Initiated rollout of new enterprise software solution for sales reporting.  Spearheaded cross-functional initiative to achieve  [objective] .        08/2008   to   09/2011     Director of Program Management      Company Name   \\u2013   City  ,   State      Greco led the Program Management for the AWV program with a $3.125 billion budget.   She led high performing global teams with differing goals towards an aligned matrixed organization with direct and adjacent reporting structures.   Greco led budget, finance, human relations, communications, real estate services, consultant and third party agreements including railroads.   Greco led complex negotiations for executive leadership with differing priorities and goals for technical agreements of the Bored Tunnel project.   She was responsible for financial forecasts, budget development and accounting for the AWV program.   Directed 5 managers and a team of 33 employees.   Developed and rolled out new policies.  Hired and trained  [number]  of staff.  Implemented innovative programs to increase employee loyalty and reduce turnover.  Partnered successfully with  [departments, clients]  to produce  [positive outcome] .        04/2006   to   08/2008     Project Director, I-90 Corridor and Sound Move Projects      Company Name   \\u2013   City  ,   State      Directed delivery of design and construction projects for high capacity transit in the I-90 corridor and for the completion of Sound Transit Sound Move projects. Oversaw improved partnering and project coordination between WSDOT and Sound Transit design and engineering teams for direct access facilities and Link light rail on the interstate system. Greco managed the leadership alignment for the Urban Corridors senior management team including the three mega projects, Alaskan Way Viaduct, SR 520 and I-405.        07/1995   to   03/2003     Manager, Aviation Services and Planning      Company Name   \\u2013   City  ,   State      Oversaw delivery of the WSDOT Pilot and Aircraft Registration Program, Aviation Planning, Outreach and Education Program.   Provided leadership support in the reorganization and relocation of the WSDOT Aviation Division.   Created the WSDOT Airport Land Use Compatibility Program, which now serves as a national model in protecting airports through local land use planning.   Restructured the Aviation System Plan into a dynamic web-based resource tool for the 129 airports in Washington.   Managed consultants for delivery of the statewide pavement management program.   Provided staff support for the 2002 Joint Legislative Audit Review Committee Aviation Division study and the 1998 State Aviation Policy.         Public Affairs Specialist      Company Name   \\u2013   City  ,   State    Served as spokesperson to national and international media including crisis managementincluding the Pan Am 103 bombing, and numerous aircraft accidents. Provided media training to senior management as well as support during media interviews including the television shows, 60 Minutes and 48 Hours.      09/2011   to   01/2014     Director, Budget and Program Development      Company Name   \\u2013   City  ,   State     Serves as Director of Budget and Program Development for WSDOT Ferries Division with a $760 million biennial budget serving over 22 million passengers each year.   Greco oversaw program management for the operating and capital budgets and established a trend and change management program.   Built strong partnerships between diverse internal partners and external stakeholders. Cultivated Lean initiatives and projects in partnership with agency executives. Developed organization's performance management program.  She is experienced in interest arbitration for numerous collective bargaining agreements. Greco oversees the organization's performance management program and has a demonstrated ability to inspire and preserve teams. Initiated rollout of new enterprise software solution for sales reporting.  Spearheaded cross-functional initiative to achieve  [objective] .  Strengthened company's business by leading implementation of  [project] .  Trained, coached and mentored staff to ensure smooth adoption of new program.         Education          Bachelor of Science  :   Flight Technology   Flight Technology           Central Washington University\\nExecutive Management Program, Evans School, University of Washington  :             Skills    arbitration, agency, budgets, Budget, continuous improvement, delivery, Executive Management, financial, functional, Government, graphics, graphic, human relations, Hyperion, I-90, Leadership, Director, Excel, PowerPoint, Microsoft Project, 3.1, Word, Negotiations, Oracle, performance management, Program Development, Program Management, real estate, Sound, strategic, Visio, workshops      Additional Information      Non-Profit and Community Support Neighborhood Youth Alliance, Founding Director Math and literacy outreach to homeless and children in poverty, Lynnwood, WA Campaign Manager in the successful election John Resha for Lake Forest Park City Council Precinct Campaign Officer, 46th Legislative District 2      \",\n          \"         STOREKEEPER II       Professional Summary    The purpose of this document is to secure a responsible career position that fully utilizes educational knowledge and experience while contributing to the goals and values of this organization. Having a friendly attitude and worm personality is an appreciated strong point, as it aided in building positive relationships with customers. As a result, repeat and satisfied customers were well known during career at Pioneer Packaging as well as while working for City of Peoria. Helping people is one of my best characteristics. Obtaining several years experience contacting vendors, answering phones and face to face contact with the public and governmental personnel has honed my customer service abilities. Problem solving skills and a positive work ethic makes communication easier. I am devoted and dedicated to serving in any way possible, and strive to accomplish assigned tasks quickly and efficiently. Exceptional people skills allow the ability to manage personnel and take care of conflicts, disputes and other personal needs of employees. Procurement and Purchasing: Over 10 years processing purchase orders. Primary vendor contact for Inventory Control and Fleet parts room purchases. Highly proficient utilizing inventory procurement practices and procedures.       Skills                    Work History      STOREKEEPER II       |   January 2002   -   January 2013     Maintaining and reconciling inventory through clerical support, using PeopleSoft to procure and receive shipments obtained by purchase order.  Create excel spread sheets for reports, manage inventory files and research inventory problems.  Conduct inventory cycle counts, coordinate stock and document transactions.  CSR): Provide Customer Service to Departmental and Fleet Maintenance Personnel, process work orders and fill Fleet Purchase Requisitions, contact vendors to procure fuel, parts and other automobile and truck supplies for fleet services.  Trainer: Forklift Operator Safety.         Company Name     Shipping: Fulfill orders with use of Infrared Scanning System (IFR).  Forklift operator: Four-stage electronic single person picker for order pulling and staging.  Word processing: Input shipping orders for USPS, UPS, FedEx, and other common carriers.  Prepare overseas containers for shipment; verify quantities, shipment labels and paperwork.         Company Name    WAREHOUSE FLOOR SUPERVISOR       |   January 1996   -   January 2001     Performance areas include: Interviewing prospective employees for higher.  Providing daily instruction to warehouse personnel and dispatching drivers for deliveries and pickups.  Routine cycle counts of inventory insure and verify, proper placement of inventory.  Receive all incoming shipments and verify counts create stock locations.  Maintain inventory and quality control procedures.  ACCOMPLISHMENTS Personal: Due to specialized training and procurement practices the City of Peoria had an annual savings of $1500.00 annually on costs of goods acquired by purchase order during career.  By developing a spreadsheet to record material requisitions and receiving logs, our department was able to stop purchasing preprinted forms from local vendor, as a result monthly operational cost were reduced.  Man hours during cycle counts and order pulling were also reduced through consolidating bulk inventory into more manageable amounts with the use of poly-bags rather than just dumping items into bin boxes.  Note: The points mentioned above are a small portion of the ideas introduced during career at City of Peoria.         Company Name    Aviation Structural Mechanic   |   City  ,   State         Line division supervisor assistant, plain captain while in line division.  Worked as an aircraft hydraulic and structural systems mechanic as a member of Naval Aircraft Squadron VS-38.  Received General under Honorable Conditions Discharge.  NJROTC, (Navy Junior Recruit Officer Training Corps).         Education      Bachelor's Degree    Business Management Administration    Grand Canyon University    City  ,   State     Business Management Administration       Associate Degree        National Education Center    City  ,   State            Graduate        Naval Aviation A School    City  ,   State            Certified Trainer Forklift Truck Operator Safety\\nAutoCAD Certificate in Architectural Drafting\\nLlewellyn Technology, Certificate, Electro Mechanical Systems Repair        City  ,   State     Training also includes repair of Signode banding and tie wrapping machines, Synergy, Minipac-poly shrink film packaging systems, remove and replace damaged parts and components, and mechanical devices.       Skills    Architectural Drafting, AutoCAD, clerical, Customer Service, Data Entry, dispatching, drivers, film, Forklift, Forklift Operator, forms, instruction, inventory, Mechanical, mechanic, Excel, Microsoft Office, PowerPoint, Windows, Word, Navy, Naval, packaging, PeopleSoft, PeopleSoft 9.0, Personnel, presentations, procurement, purchasing, quality control, receiving, reconciling, research, Safety, Scanning, Shipping, spreadsheets, spread sheets, spreadsheet, supervisor, Trainer, Word Processing, Word Perfect   \",\n          \"         GEEK SQUAD AGENT         Professional Profile    IT support specialist with experience across multiple disciplines including technical\\nsupport, customer service, computer repair, and military service. I am hard working,\\nwilling to learn, team oriented, and comfortable working independently as well.      Qualifications        Windows / Mac / IOS / Android Technical Support \\nHardware & Software Maintenance User Training \\nMalware Detection & Removal  Customer Service \\nEntry Level Active Directory & Ticketing Problem Solving & Research              Experience      Company Name     August 2014   to   October 2016     Geek Squad Agent   City  ,   State      Provided technical support in person and over the phone.  Performed hardware and software installation and repair.  Refurbished and setup PCs and peripheral devices.          Company Name     January 2013   to   January 2014     Shipping & Receiving Associate   City  ,   State      Performed shipping and receiving of product.  Assisted with inventory management.  General logistics and warehouse duties.          Company Name     January 2009   to   January 2012     Assembler/Shipping & Receiving Associate   City  ,   State      Assembled and tested tanks according to specifications.  Maintained inventory of tools and supplies.  Performed shipping and receiving duties.          Company Name     January 2005   to   January 2009     Aviation Electrician   City  ,   State      Performed troubleshooting and maintenance of aircraft.  Performed ground handling and marshalling of aircraft.  Performed daily safe for flight inspections.          Education      Purdue University     2014       B.S  :   Computer & Information Technology    City  ,   State      Computer & Information Technology          Skills    Active Directory, Hardware, Customer Service, inventory management, inventory, logistics, Mac, Windows, Problem Solving, receiving, Research, shipping, software installation, technical support, User Training, phone, troubleshooting   \"\n        ],\n        \"semantic_type\": \"\",\n        \"description\": \"\"\n      }\n    },\n    {\n      \"column\": \"Resume_html\",\n      \"properties\": {\n        \"dtype\": \"string\",\n        \"num_unique_values\": 5,\n        \"samples\": [\n          \"<div class=\\\"fontsize fontface vmargins hmargins linespacing pagesize\\\" id=\\\"document\\\"> <div class=\\\"section firstsection\\\" id=\\\"SECTION_NAME510479545\\\" style=\\\"\\n      padding-top:0px;\\n    \\\"> <div class=\\\"paragraph PARAGRAPH_NAME firstparagraph\\\" id=\\\"PARAGRAPH_510479545_1_333318453\\\"> <div class=\\\"name\\\" itemprop=\\\"name\\\"> <span class=\\\"field\\\" id=\\\"510479545FNAM1\\\"> </span> <span> </span> <span class=\\\"field\\\" id=\\\"510479545LNAM1\\\"> GOVERNMENT RELATIONS, COMMUNICATIONS AND ORGANIZATIONAL DEVELOPMENT DIRECTOR</span> </div> </div> </div> <div class=\\\"section\\\" id=\\\"SECTION_SUMM510479549\\\" style=\\\"\\n      padding-top:0px;\\n    \\\"> <div class=\\\"heading topborder\\\"> <div class=\\\"sectiontitle\\\" id=\\\"SECTNAME_SUMM510479549\\\"> Professional Summary</div> </div> <div class=\\\"paragraph firstparagraph\\\" id=\\\"PARAGRAPH_510479549_1_333318462\\\"> <div class=\\\"field singlecolumn\\\" id=\\\"510479549FRFM1\\\"> Strategically grounded, highly experienced leader* Quickly establishes trust and effective working relationships * Focus on effective communication between teams * Creative, articulate and resourceful * Successful at team mentoring and develop individuals into leadership *Innovative, energetic and a good sense of humor</div> </div> </div> <div class=\\\"section\\\" id=\\\"SECTION_HILT510479997\\\" style=\\\"\\n      padding-top:0px;\\n    \\\"> <div class=\\\"heading topborder\\\"> <div class=\\\"sectiontitle\\\" id=\\\"SECTNAME_HILT510479997\\\"> Skills</div> </div> <div class=\\\"paragraph firstparagraph\\\" id=\\\"PARAGRAPH_510479997_1\\\"> <div class=\\\"singlecolumn maincolumn\\\"> <table class=\\\"twocol\\\"> <tbody> <tr> <td class=\\\"field twocol_1\\\" id=\\\"510479997SKC11\\\"> </td> <td class=\\\"field twocol_2\\\" id=\\\"510479997SKC21\\\"> </td> </tr> </tbody> </table> </div> </div> </div> <div class=\\\"section\\\" id=\\\"SECTION_EXPR510479547\\\" style=\\\"\\n      padding-top:0px;\\n    \\\"> <div class=\\\"heading topborder\\\"> <div class=\\\"sectiontitle\\\" id=\\\"SECTNAME_EXPR510479547\\\"> Work History</div> </div> <div class=\\\"paragraph firstparagraph\\\" id=\\\"PARAGRAPH_510479547_1_333318455\\\" itemscope=\\\"\\\" itemtype=\\\"https://schema.org/Organization\\\"> <span class=\\\"dates_wrapper\\\"> <span class=\\\"jobdates\\\" format=\\\"%m/%Y\\\" id=\\\"510479547JSTD1\\\"> 01/2014</span> <span>  to </span> <span class=\\\"jobdates\\\" format=\\\"%m/%Y\\\" id=\\\"510479547EDDT1\\\"> Current</span> </span> <div class=\\\"singlecolumn\\\"> <span class=\\\"paddedline\\\"> <span class=\\\"jobtitle\\\" id=\\\"510479547JTIT1\\\"> Government Relations, Communications and Organizational Development Director</span> <span> </span> </span> <span class=\\\"paddedline\\\" itemscope=\\\"\\\" itemtype=\\\"https://schema.org/postalAddress\\\"> <span class=\\\"companyname\\\" id=\\\"510479547COMP1\\\" itemprop=\\\"name\\\"> Company Name</span> <span>  \\u2013 </span> <span class=\\\"joblocation jobcity\\\" id=\\\"510479547JCIT1\\\" itemprop=\\\"addressLocality\\\"> City</span> <span> , </span> <span class=\\\"joblocation jobstate\\\" id=\\\"510479547JSTA1\\\" itemprop=\\\"addressRegion\\\"> State</span> <br/> </span> <span class=\\\"jobline\\\" id=\\\"510479547JDES1\\\" itemprop=\\\"description\\\"> <ul> <li> Government Relations and Communications WSDOT Toll Division Leadership: Develops strong partnerships with functional teams throughout WSDOT and region in delivering toll projects.</li> <li> Oversees implementation of continuous improvement and Lean project.</li> <li> Represents the division with the media, government and industry representatives, and citizens.</li> <li> Government Relations: Serves as a strategic advisor to department executives on key tolling, communication and legislative strategies.</li> <li> Communications: Leads strategic communication and government relations delivery plans with internal employees and stakeholders for the WSDOT Toll Division.</li> <li> Distills complex financial and technical information into clear graphic storytelling and understandable communication.</li> <li> Facilitates resolution workshops on policy conflicts between internal and cross functional partners.</li> <li> Leads external communications team leverage of current social media tools.</li> <li> Team:  2 managers, 8 staff Director of Budget and Program Development Washington State Ferries Leadership:  Built strong partnerships between diverse internal partners and external stakeholders.</li> <li> Cultivated Lean initiatives and projects in partnership with agency executives.</li> <li> Developed organization's performance management program.</li> <li> Trained, coached and mentored staff to ensure smooth adoption of new program.</li> <li> Initiated rollout of new enterprise software solution for sales reporting.</li> <li> Spearheaded cross-functional initiative to achieve <font color=\\\"#0000ff\\\"> [objective]</font> .</li> </ul> </span> </div> </div> <div class=\\\"paragraph\\\" id=\\\"PARAGRAPH_510479547_2_333318456\\\" itemscope=\\\"\\\" itemtype=\\\"https://schema.org/Organization\\\"> <span class=\\\"dates_wrapper\\\"> <span class=\\\"jobdates\\\" format=\\\"%m/%Y\\\" id=\\\"510479547JSTD2\\\"> 08/2008</span> <span>  to </span> <span class=\\\"jobdates\\\" format=\\\"%m/%Y\\\" id=\\\"510479547EDDT2\\\"> 09/2011</span> </span> <div class=\\\"singlecolumn\\\"> <span class=\\\"paddedline\\\"> <span class=\\\"jobtitle\\\" id=\\\"510479547JTIT2\\\"> Director of Program Management</span> <span> </span> </span> <span class=\\\"paddedline\\\" itemscope=\\\"\\\" itemtype=\\\"https://schema.org/postalAddress\\\"> <span class=\\\"companyname\\\" id=\\\"510479547COMP2\\\" itemprop=\\\"name\\\"> Company Name</span> <span>  \\u2013 </span> <span class=\\\"joblocation jobcity\\\" id=\\\"510479547JCIT2\\\" itemprop=\\\"addressLocality\\\"> City</span> <span> , </span> <span class=\\\"joblocation jobstate\\\" id=\\\"510479547JSTA2\\\" itemprop=\\\"addressRegion\\\"> State</span> <br/> </span> <span class=\\\"jobline\\\" id=\\\"510479547JDES2\\\" itemprop=\\\"description\\\"> <ul> <li> Greco led the Program Management for the AWV program with a $3.125 billion budget. </li> <li> She led high performing global teams with differing goals towards an aligned matrixed organization with direct and adjacent reporting structures. </li> <li> Greco led budget, finance, human relations, communications, real estate services, consultant and third party agreements including railroads. </li> <li> Greco led complex negotiations for executive leadership with differing priorities and goals for technical agreements of the Bored Tunnel project. </li> <li> She was responsible for financial forecasts, budget development and accounting for the AWV program. </li> <li> Directed 5 managers and a team of 33 employees. </li> <li> Developed and rolled out new policies.</li> <li> Hired and trained <font color=\\\"#0000ff\\\"> [number]</font>  of staff.</li> <li> Implemented innovative programs to increase employee loyalty and reduce turnover.</li> <li> Partnered successfully with <font color=\\\"#0000ff\\\"> [departments, clients]</font>  to produce <font color=\\\"#0000ff\\\"> [positive outcome]</font> .</li> </ul> </span> </div> </div> <div class=\\\"paragraph\\\" id=\\\"PARAGRAPH_510479547_3_333318457\\\" itemscope=\\\"\\\" itemtype=\\\"https://schema.org/Organization\\\"> <span class=\\\"dates_wrapper\\\"> <span class=\\\"jobdates\\\" format=\\\"%m/%Y\\\" id=\\\"510479547JSTD3\\\"> 04/2006</span> <span>  to </span> <span class=\\\"jobdates\\\" format=\\\"%m/%Y\\\" id=\\\"510479547EDDT3\\\"> 08/2008</span> </span> <div class=\\\"singlecolumn\\\"> <span class=\\\"paddedline\\\"> <span class=\\\"jobtitle\\\" id=\\\"510479547JTIT3\\\"> Project Director, I-90 Corridor and Sound Move Projects</span> <span> </span> </span> <span class=\\\"paddedline\\\" itemscope=\\\"\\\" itemtype=\\\"https://schema.org/postalAddress\\\"> <span class=\\\"companyname\\\" id=\\\"510479547COMP3\\\" itemprop=\\\"name\\\"> Company Name</span> <span>  \\u2013 </span> <span class=\\\"joblocation jobcity\\\" id=\\\"510479547JCIT3\\\" itemprop=\\\"addressLocality\\\"> City</span> <span> , </span> <span class=\\\"joblocation jobstate\\\" id=\\\"510479547JSTA3\\\" itemprop=\\\"addressRegion\\\"> State</span> <br/> </span> <span class=\\\"jobline\\\" id=\\\"510479547JDES3\\\" itemprop=\\\"description\\\"> <ul> <li> Directed delivery of design and construction projects for high capacity transit in the I-90 corridor and for the completion of Sound Transit Sound Move projects. Oversaw improved partnering and project coordination between WSDOT and Sound Transit design and engineering teams for direct access facilities and Link light rail on the interstate system. Greco managed the leadership alignment for the Urban Corridors senior management team including the three mega projects, Alaskan Way Viaduct, SR 520 and I-405.</li> </ul> </span> </div> </div> <div class=\\\"paragraph\\\" id=\\\"PARAGRAPH_510479547_4_333318458\\\" itemscope=\\\"\\\" itemtype=\\\"https://schema.org/Organization\\\"> <span class=\\\"dates_wrapper\\\"> <span class=\\\"jobdates\\\" format=\\\"%m/%Y\\\" id=\\\"510479547JSTD4\\\"> 07/1995</span> <span>  to </span> <span class=\\\"jobdates\\\" format=\\\"%m/%Y\\\" id=\\\"510479547EDDT4\\\"> 03/2003</span> </span> <div class=\\\"singlecolumn\\\"> <span class=\\\"paddedline\\\"> <span class=\\\"jobtitle\\\" id=\\\"510479547JTIT4\\\"> Manager, Aviation Services and Planning</span> <span> </span> </span> <span class=\\\"paddedline\\\" itemscope=\\\"\\\" itemtype=\\\"https://schema.org/postalAddress\\\"> <span class=\\\"companyname\\\" id=\\\"510479547COMP4\\\" itemprop=\\\"name\\\"> Company Name</span> <span>  \\u2013 </span> <span class=\\\"joblocation jobcity\\\" id=\\\"510479547JCIT4\\\" itemprop=\\\"addressLocality\\\"> City</span> <span> , </span> <span class=\\\"joblocation jobstate\\\" id=\\\"510479547JSTA4\\\" itemprop=\\\"addressRegion\\\"> State</span> <br/> </span> <span class=\\\"jobline\\\" id=\\\"510479547JDES4\\\" itemprop=\\\"description\\\"> <ul> <li> Oversaw delivery of the WSDOT Pilot and Aircraft Registration Program, Aviation Planning, Outreach and Education Program. </li> <li> Provided leadership support in the reorganization and relocation of the WSDOT Aviation Division. </li> <li> Created the WSDOT Airport Land Use Compatibility Program, which now serves as a national model in protecting airports through local land use planning. </li> <li> Restructured the Aviation System Plan into a dynamic web-based resource tool for the 129 airports in Washington. </li> <li> Managed consultants for delivery of the statewide pavement management program. </li> <li> Provided staff support for the 2002 Joint Legislative Audit Review Committee Aviation Division study and the 1998 State Aviation Policy.</li> </ul> </span> </div> </div> <div class=\\\"paragraph\\\" id=\\\"PARAGRAPH_510479547_5_333318459\\\" itemscope=\\\"\\\" itemtype=\\\"https://schema.org/Organization\\\"> <div class=\\\"singlecolumn\\\"> <span class=\\\"paddedline\\\"> <span class=\\\"jobtitle\\\" id=\\\"510479547JTIT5\\\"> Public Affairs Specialist</span> <span> </span> </span> <span class=\\\"paddedline\\\" itemscope=\\\"\\\" itemtype=\\\"https://schema.org/postalAddress\\\"> <span class=\\\"companyname\\\" id=\\\"510479547COMP5\\\" itemprop=\\\"name\\\"> Company Name</span> <span>  \\u2013 </span> <span class=\\\"joblocation jobcity\\\" id=\\\"510479547JCIT5\\\" itemprop=\\\"addressLocality\\\"> City</span> <span> , </span> <span class=\\\"joblocation jobstate\\\" id=\\\"510479547JSTA5\\\" itemprop=\\\"addressRegion\\\"> State</span> <br/> </span> <span class=\\\"jobline\\\" id=\\\"510479547JDES5\\\" itemprop=\\\"description\\\"> Served as spokesperson to national and international media including crisis managementincluding the Pan Am 103 bombing, and numerous aircraft accidents. Provided media training to senior management as well as support during media interviews including the television shows, 60 Minutes and 48 Hours.</span> </div> </div> <div class=\\\"paragraph\\\" id=\\\"PARAGRAPH_510479547_6_333323630\\\" itemscope=\\\"\\\" itemtype=\\\"https://schema.org/Organization\\\"> <span class=\\\"dates_wrapper\\\"> <span class=\\\"jobdates\\\" format=\\\"%m/%Y\\\" id=\\\"510479547JSTD6\\\"> 09/2011</span> <span>  to </span> <span class=\\\"jobdates\\\" format=\\\"%m/%Y\\\" id=\\\"510479547EDDT6\\\"> 01/2014</span> </span> <div class=\\\"singlecolumn\\\"> <span class=\\\"paddedline\\\"> <span class=\\\"jobtitle\\\" id=\\\"510479547JTIT6\\\"> Director, Budget and Program Development</span> <span> </span> </span> <span class=\\\"paddedline\\\" itemscope=\\\"\\\" itemtype=\\\"https://schema.org/postalAddress\\\"> <span class=\\\"companyname\\\" id=\\\"510479547COMP6\\\" itemprop=\\\"name\\\"> Company Name</span> <span>  \\u2013 </span> <span class=\\\"joblocation jobcity\\\" id=\\\"510479547JCIT6\\\" itemprop=\\\"addressLocality\\\"> City</span> <span> , </span> <span class=\\\"joblocation jobstate\\\" id=\\\"510479547JSTA6\\\" itemprop=\\\"addressRegion\\\"> State</span> <br/> </span> <span class=\\\"jobline\\\" id=\\\"510479547JDES6\\\" itemprop=\\\"description\\\"> <ul> Serves as Director of Budget and Program Development for WSDOT Ferries Division with a $760 million biennial budget serving over 22 million passengers each year. <br/> <br/> Greco oversaw program management for the operating and capital budgets and established a trend and change management program. <br/> <br/> Built strong partnerships between diverse internal partners and external stakeholders. Cultivated Lean initiatives and projects in partnership with agency executives. Developed organization's performance management program.<br/> <br/> She is experienced in interest arbitration for numerous collective bargaining agreements. Greco oversees the organization's performance management program and has a demonstrated ability to inspire and preserve teams.<li> Initiated rollout of new enterprise software solution for sales reporting.</li> <li> Spearheaded cross-functional initiative to achieve <font color=\\\"#0000ff\\\"> [objective]</font> .</li> <li> Strengthened company's business by leading implementation of <font color=\\\"#0000ff\\\"> [project]</font> .</li> <li> Trained, coached and mentored staff to ensure smooth adoption of new program.</li> </ul> </span> </div> </div> </div> <div class=\\\"section\\\" id=\\\"SECTION_EDUC510479548\\\" style=\\\"\\n      padding-top:0px;\\n    \\\"> <div class=\\\"heading topborder\\\"> <div class=\\\"sectiontitle\\\" id=\\\"SECTNAME_EDUC510479548\\\"> Education</div> </div> <div class=\\\"paragraph firstparagraph\\\" id=\\\"PARAGRAPH_510479548_1_333318460\\\" itemscope=\\\"\\\" itemtype=\\\"https://schema.org/EducationalOrganization\\\"> <span class=\\\"dates_wrapper\\\"> <span class=\\\"jobdates\\\" id=\\\"510479548GRYR1\\\"> </span> </span> <div class=\\\"singlecolumn\\\"> <span class=\\\"paddedline\\\" itemprop=\\\"description\\\"> <span class=\\\"degree\\\" id=\\\"510479548DGRE1\\\" itemprop=\\\"name\\\"> Bachelor of Science</span> <span> : </span> <span class=\\\"programline\\\" id=\\\"510479548STUY1\\\"> Flight Technology</span> </span> <span class=\\\"field\\\" id=\\\"510479548FRFM1\\\"> Flight Technology</span> </div> </div> <div class=\\\"paragraph\\\" id=\\\"PARAGRAPH_510479548_2_333318461\\\" itemscope=\\\"\\\" itemtype=\\\"https://schema.org/EducationalOrganization\\\"> <span class=\\\"dates_wrapper\\\"> <span class=\\\"jobdates\\\" id=\\\"510479548GRYR2\\\"> </span> </span> <div class=\\\"singlecolumn\\\"> <span class=\\\"paddedline\\\" itemprop=\\\"description\\\"> <span class=\\\"degree\\\" id=\\\"510479548DGRE2\\\" itemprop=\\\"name\\\"> Central Washington University\\nExecutive Management Program, Evans School, University of Washington</span> <span> : </span> <span class=\\\"programline\\\" id=\\\"510479548STUY2\\\"> </span> </span> <span class=\\\"field\\\" id=\\\"510479548FRFM2\\\"> </span> </div> </div> </div> <div class=\\\"section\\\" id=\\\"SECTION_SKLL510479552\\\" style=\\\"\\n      padding-top:0px;\\n    \\\"> <div class=\\\"heading topborder\\\"> <div class=\\\"sectiontitle\\\" id=\\\"SECTNAME_SKLL510479552\\\"> Skills</div> </div> <div class=\\\"paragraph firstparagraph\\\" id=\\\"PARAGRAPH_510479552_1_333318465\\\"> <div class=\\\"field singlecolumn\\\" id=\\\"510479552FRFM1\\\"> arbitration, agency, budgets, Budget, continuous improvement, delivery, Executive Management, financial, functional, Government, graphics, graphic, human relations, Hyperion, I-90, Leadership, Director, Excel, PowerPoint, Microsoft Project, 3.1, Word, Negotiations, Oracle, performance management, Program Development, Program Management, real estate, Sound, strategic, Visio, workshops</div> </div> </div> <div class=\\\"section\\\" id=\\\"SECTION_ADDI510479553\\\" style=\\\"\\n      padding-top:0px;\\n    \\\"> <div class=\\\"heading topborder\\\"> <div class=\\\"sectiontitle\\\" id=\\\"SECTNAME_ADDI510479553\\\"> Additional Information</div> </div> <div class=\\\"paragraph firstparagraph\\\" id=\\\"PARAGRAPH_510479553_1_333318466\\\"> <div class=\\\"field singlecolumn\\\" id=\\\"510479553FRFM1\\\"> <ul> <li> Non-Profit and Community Support Neighborhood Youth Alliance, Founding Director Math and literacy outreach to homeless and children in poverty, Lynnwood, WA Campaign Manager in the successful election John Resha for Lake Forest Park City Council Precinct Campaign Officer, 46th Legislative District 2 </li> </ul> </div> </div> </div> </div>\",\n          \"<div class=\\\"fontsize fontface vmargins hmargins linespacing pagesize\\\" id=\\\"document\\\"> <div class=\\\"section firstsection\\\" id=\\\"SECTION_NAME515694141\\\" style=\\\"\\n      padding-top:0px;\\n    \\\"> <div class=\\\"paragraph PARAGRAPH_NAME firstparagraph\\\" id=\\\"PARAGRAPH_515694141_1_336694356\\\"> <div class=\\\"name\\\" itemprop=\\\"name\\\"> <span class=\\\"field\\\" id=\\\"515694141FNAM1\\\"> </span> <span> </span> <span class=\\\"field\\\" id=\\\"515694141LNAM1\\\"> STOREKEEPER II</span> </div> </div> </div> <div class=\\\"section\\\" id=\\\"SECTION_SUMM515694145\\\" style=\\\"\\n      padding-top:0px;\\n    \\\"> <div class=\\\"heading\\\"> <div class=\\\"sectiontitle\\\" id=\\\"SECTNAME_SUMM515694145\\\"> Professional Summary</div> </div> <div class=\\\"paragraph smry firstparagraph\\\" id=\\\"PARAGRAPH_515694145_1_336694366\\\"> <div class=\\\"field singlecolumn\\\" id=\\\"515694145FRFM1\\\"> The purpose of this document is to secure a responsible career position that fully utilizes educational knowledge and experience while contributing to the goals and values of this organization. Having a friendly attitude and worm personality is an appreciated strong point, as it aided in building positive relationships with customers. As a result, repeat and satisfied customers were well known during career at Pioneer Packaging as well as while working for City of Peoria. Helping people is one of my best characteristics. Obtaining several years experience contacting vendors, answering phones and face to face contact with the public and governmental personnel has honed my customer service abilities. Problem solving skills and a positive work ethic makes communication easier. I am devoted and dedicated to serving in any way possible, and strive to accomplish assigned tasks quickly and efficiently. Exceptional people skills allow the ability to manage personnel and take care of conflicts, disputes and other personal needs of employees. Procurement and Purchasing: Over 10 years processing purchase orders. Primary vendor contact for Inventory Control and Fleet parts room purchases. Highly proficient utilizing inventory procurement practices and procedures. </div> </div> </div> <div class=\\\"section\\\" id=\\\"SECTION_HILT515694524\\\" style=\\\"\\n      padding-top:0px;\\n    \\\"> <div class=\\\"heading\\\"> <div class=\\\"sectiontitle\\\" id=\\\"SECTNAME_HILT515694524\\\"> Skills</div> </div> <div class=\\\"paragraph firstparagraph\\\" id=\\\"PARAGRAPH_515694524_1\\\"> <div class=\\\"singlecolumn maincolumn\\\"> <table class=\\\"twocol\\\"> <tbody> <tr> <td class=\\\"field twocol_1\\\" id=\\\"515694524SKC11\\\"> </td> <td class=\\\"field twocol_2\\\" id=\\\"515694524SKC21\\\"> </td> </tr> </tbody> </table> </div> </div> </div> <div class=\\\"section\\\" id=\\\"SECTION_EXPR515694143\\\" style=\\\"\\n      padding-top:0px;\\n    \\\"> <div class=\\\"heading\\\"> <div class=\\\"sectiontitle\\\" id=\\\"SECTNAME_EXPR515694143\\\"> Work History</div> </div> <div class=\\\"paragraph firstparagraph\\\" id=\\\"PARAGRAPH_515694143_1_336694358\\\" itemscope=\\\"\\\" itemtype=\\\"https://schema.org/Organization\\\"> <div class=\\\"singlecolumn\\\"> <span class=\\\"paddedline grayItl\\\" itemscope=\\\"\\\" itemtype=\\\"https://schema.org/postalAddress\\\"> <span class=\\\"jobtitle\\\" id=\\\"515694143JTIT1\\\"> STOREKEEPER II</span> <span class=\\\"joblocation\\\" id=\\\"515694143JCIT1\\\" itemprop=\\\"addressLocality\\\"> </span> <span class=\\\"joblocation\\\" id=\\\"515694143JSTA1\\\" itemprop=\\\"addressRegion\\\"> </span> <span>  | </span> <span class=\\\"jobdates\\\" format=\\\"%B %Y\\\" id=\\\"515694143JSTD1\\\"> January 2002</span> <span>  - </span> <span class=\\\"jobdates\\\" format=\\\"%B %Y\\\" id=\\\"515694143EDDT1\\\"> January 2013</span> </span> <span class=\\\"jobline\\\" id=\\\"515694143JDES1\\\" itemprop=\\\"description\\\"> <ul> <li> Maintaining and reconciling inventory through clerical support, using PeopleSoft to procure and receive shipments obtained by purchase order.</li> <li> Create excel spread sheets for reports, manage inventory files and research inventory problems.</li> <li> Conduct inventory cycle counts, coordinate stock and document transactions.</li> <li> CSR): Provide Customer Service to Departmental and Fleet Maintenance Personnel, process work orders and fill Fleet Purchase Requisitions, contact vendors to procure fuel, parts and other automobile and truck supplies for fleet services.</li> <li> Trainer: Forklift Operator Safety.</li> </ul> </span> </div> </div> <div class=\\\"paragraph\\\" id=\\\"PARAGRAPH_515694143_2_336694359\\\"> <div class=\\\"singlecolumn\\\"> <span class=\\\"paddedline\\\"> <span class=\\\"companyname\\\" id=\\\"515694143COMP2\\\" itemprop=\\\"name\\\"> Company Name</span> </span> <span class=\\\"jobline\\\" id=\\\"515694143JDES2\\\" itemprop=\\\"description\\\"> <ul> <li> Shipping: Fulfill orders with use of Infrared Scanning System (IFR).</li> <li> Forklift operator: Four-stage electronic single person picker for order pulling and staging.</li> <li> Word processing: Input shipping orders for USPS, UPS, FedEx, and other common carriers.</li> <li> Prepare overseas containers for shipment; verify quantities, shipment labels and paperwork.</li> </ul> </span> </div> </div> <div class=\\\"paragraph\\\" id=\\\"PARAGRAPH_515694143_3_336694360\\\" itemscope=\\\"\\\" itemtype=\\\"https://schema.org/Organization\\\"> <div class=\\\"singlecolumn\\\"> <span class=\\\"paddedline\\\"> <span class=\\\"companyname\\\" id=\\\"515694143COMP3\\\" itemprop=\\\"name\\\"> Company Name</span> </span> <span class=\\\"paddedline grayItl\\\" itemscope=\\\"\\\" itemtype=\\\"https://schema.org/postalAddress\\\"> <span class=\\\"jobtitle\\\" id=\\\"515694143JTIT3\\\"> WAREHOUSE FLOOR SUPERVISOR</span> <span class=\\\"joblocation\\\" id=\\\"515694143JCIT3\\\" itemprop=\\\"addressLocality\\\"> </span> <span class=\\\"joblocation\\\" id=\\\"515694143JSTA3\\\" itemprop=\\\"addressRegion\\\"> </span> <span>  | </span> <span class=\\\"jobdates\\\" format=\\\"%B %Y\\\" id=\\\"515694143JSTD3\\\"> January 1996</span> <span>  - </span> <span class=\\\"jobdates\\\" format=\\\"%B %Y\\\" id=\\\"515694143EDDT3\\\"> January 2001</span> </span> <span class=\\\"jobline\\\" id=\\\"515694143JDES3\\\" itemprop=\\\"description\\\"> <ul> <li> Performance areas include: Interviewing prospective employees for higher.</li> <li> Providing daily instruction to warehouse personnel and dispatching drivers for deliveries and pickups.</li> <li> Routine cycle counts of inventory insure and verify, proper placement of inventory.</li> <li> Receive all incoming shipments and verify counts create stock locations.</li> <li> Maintain inventory and quality control procedures.</li> <li> ACCOMPLISHMENTS Personal: Due to specialized training and procurement practices the City of Peoria had an annual savings of $1500.00 annually on costs of goods acquired by purchase order during career.</li> <li> By developing a spreadsheet to record material requisitions and receiving logs, our department was able to stop purchasing preprinted forms from local vendor, as a result monthly operational cost were reduced.</li> <li> Man hours during cycle counts and order pulling were also reduced through consolidating bulk inventory into more manageable amounts with the use of poly-bags rather than just dumping items into bin boxes.</li> <li> Note: The points mentioned above are a small portion of the ideas introduced during career at City of Peoria.</li> </ul> </span> </div> </div> <div class=\\\"paragraph\\\" id=\\\"PARAGRAPH_515694143_4_336694361\\\" itemscope=\\\"\\\" itemtype=\\\"https://schema.org/Organization\\\"> <div class=\\\"singlecolumn\\\"> <span class=\\\"paddedline\\\"> <span class=\\\"companyname\\\" id=\\\"515694143COMP4\\\" itemprop=\\\"name\\\"> Company Name</span> </span> <span class=\\\"paddedline grayItl\\\" itemscope=\\\"\\\" itemtype=\\\"https://schema.org/postalAddress\\\"> <span class=\\\"jobtitle\\\" id=\\\"515694143JTIT4\\\"> Aviation Structural Mechanic</span> <span>  | </span> <span class=\\\"joblocation\\\" id=\\\"515694143JCIT4\\\" itemprop=\\\"addressLocality\\\"> City</span> <span> , </span> <span class=\\\"joblocation\\\" id=\\\"515694143JSTA4\\\" itemprop=\\\"addressRegion\\\"> State</span> <span class=\\\"jobdates\\\" format=\\\"%B %Y\\\" id=\\\"515694143JSTD4\\\"> </span> <span class=\\\"jobdates\\\" format=\\\"%B %Y\\\" id=\\\"515694143EDDT4\\\"> </span> </span> <span class=\\\"jobline\\\" id=\\\"515694143JDES4\\\" itemprop=\\\"description\\\"> <ul> <li> Line division supervisor assistant, plain captain while in line division.</li> <li> Worked as an aircraft hydraulic and structural systems mechanic as a member of Naval Aircraft Squadron VS-38.</li> <li> Received General under Honorable Conditions Discharge.</li> <li> NJROTC, (Navy Junior Recruit Officer Training Corps).</li> </ul> </span> </div> </div> </div> <div class=\\\"section\\\" id=\\\"SECTION_EDUC515694144\\\" style=\\\"\\n      padding-top:0px;\\n    \\\"> <div class=\\\"heading\\\"> <div class=\\\"sectiontitle\\\" id=\\\"SECTNAME_EDUC515694144\\\"> Education</div> </div> <div class=\\\"paragraph firstparagraph\\\" id=\\\"PARAGRAPH_515694144_1_336694362\\\" itemscope=\\\"\\\" itemtype=\\\"https://schema.org/EducationalOrganization\\\"> <div class=\\\"singlecolumn\\\"> <span class=\\\"paddedline\\\" itemprop=\\\"description\\\"> <span class=\\\"degree\\\" id=\\\"515694144DGRE1\\\" itemprop=\\\"name\\\"> Bachelor's Degree</span> <span> </span> <span class=\\\"programline\\\" id=\\\"515694144STUY1\\\"> Business Management Administration</span> </span> <span class=\\\"paddedline\\\"> <span id=\\\"515694144SCHO1\\\"> Grand Canyon University</span> </span> <span class=\\\"paddedline grayItl\\\"> <span id=\\\"515694144SCIT1\\\"> City</span> <span> , </span> <span id=\\\"515694144SSTA1\\\"> State</span> <span id=\\\"515694144GRYR1\\\"> </span> </span> <span class=\\\"field\\\" id=\\\"515694144FRFM1\\\"> Business Management Administration</span> </div> </div> <div class=\\\"paragraph\\\" id=\\\"PARAGRAPH_515694144_2_336694363\\\" itemscope=\\\"\\\" itemtype=\\\"https://schema.org/EducationalOrganization\\\"> <div class=\\\"singlecolumn\\\"> <span class=\\\"paddedline\\\" itemprop=\\\"description\\\"> <span class=\\\"degree\\\" id=\\\"515694144DGRE2\\\" itemprop=\\\"name\\\"> Associate Degree</span> <span> </span> <span class=\\\"programline\\\" id=\\\"515694144STUY2\\\"> </span> </span> <span class=\\\"paddedline\\\"> <span id=\\\"515694144SCHO2\\\"> National Education Center</span> </span> <span class=\\\"paddedline grayItl\\\"> <span id=\\\"515694144SCIT2\\\"> City</span> <span> , </span> <span id=\\\"515694144SSTA2\\\"> State</span> <span id=\\\"515694144GRYR2\\\"> </span> </span> <span class=\\\"field\\\" id=\\\"515694144FRFM2\\\"> </span> </div> </div> <div class=\\\"paragraph\\\" id=\\\"PARAGRAPH_515694144_3_336694364\\\" itemscope=\\\"\\\" itemtype=\\\"https://schema.org/EducationalOrganization\\\"> <div class=\\\"singlecolumn\\\"> <span class=\\\"paddedline\\\" itemprop=\\\"description\\\"> <span class=\\\"degree\\\" id=\\\"515694144DGRE3\\\" itemprop=\\\"name\\\"> Graduate</span> <span> </span> <span class=\\\"programline\\\" id=\\\"515694144STUY3\\\"> </span> </span> <span class=\\\"paddedline\\\"> <span id=\\\"515694144SCHO3\\\"> Naval Aviation A School</span> </span> <span class=\\\"paddedline grayItl\\\"> <span id=\\\"515694144SCIT3\\\"> City</span> <span> , </span> <span id=\\\"515694144SSTA3\\\"> State</span> <span id=\\\"515694144GRYR3\\\"> </span> </span> <span class=\\\"field\\\" id=\\\"515694144FRFM3\\\"> </span> </div> </div> <div class=\\\"paragraph\\\" id=\\\"PARAGRAPH_515694144_4_336694365\\\" itemscope=\\\"\\\" itemtype=\\\"https://schema.org/EducationalOrganization\\\"> <div class=\\\"singlecolumn\\\"> <span class=\\\"paddedline\\\" itemprop=\\\"description\\\"> <span class=\\\"degree\\\" id=\\\"515694144DGRE4\\\" itemprop=\\\"name\\\"> Certified Trainer Forklift Truck Operator Safety\\nAutoCAD Certificate in Architectural Drafting\\nLlewellyn Technology, Certificate, Electro Mechanical Systems Repair</span> <span> </span> <span class=\\\"programline\\\" id=\\\"515694144STUY4\\\"> </span> </span> <span class=\\\"paddedline grayItl\\\"> <span id=\\\"515694144SCIT4\\\"> City</span> <span> , </span> <span id=\\\"515694144SSTA4\\\"> State</span> <span id=\\\"515694144GRYR4\\\"> </span> </span> <span class=\\\"field\\\" id=\\\"515694144FRFM4\\\"> Training also includes repair of Signode banding and tie wrapping machines, Synergy, Minipac-poly shrink film packaging systems, remove and replace damaged parts and components, and mechanical devices.</span> </div> </div> </div> <div class=\\\"section\\\" id=\\\"SECTION_SKLL515694147\\\" style=\\\"\\n      padding-top:0px;\\n    \\\"> <div class=\\\"heading\\\"> <div class=\\\"sectiontitle\\\" id=\\\"SECTNAME_SKLL515694147\\\"> Skills</div> </div> <div class=\\\"paragraph firstparagraph\\\" id=\\\"PARAGRAPH_515694147_1_336694368\\\"> <div class=\\\"field singlecolumn\\\" id=\\\"515694147FRFM1\\\"> Architectural Drafting, AutoCAD, clerical, Customer Service, Data Entry, dispatching, drivers, film, Forklift, Forklift Operator, forms, instruction, inventory, Mechanical, mechanic, Excel, Microsoft Office, PowerPoint, Windows, Word, Navy, Naval, packaging, PeopleSoft, PeopleSoft 9.0, Personnel, presentations, procurement, purchasing, quality control, receiving, reconciling, research, Safety, Scanning, Shipping, spreadsheets, spread sheets, spreadsheet, supervisor, Trainer, Word Processing, Word Perfect</div> </div> </div> </div>\",\n          \"<div class=\\\"fontsize fontface vmargins hmargins linespacing pagesize\\\" id=\\\"document\\\"> <div class=\\\"section firstsection\\\" id=\\\"SECTION_NAME927947889\\\" style=\\\"padding-top:0px;\\\"> <div class=\\\"paragraph PARAGRAPH_NAME firstparagraph\\\" id=\\\"PARAGRAPH_927947889_1_609980872\\\" style=\\\"padding-top:0px;\\\"> <div class=\\\"name bottomborder\\\" itemprop=\\\"name\\\"> <span class=\\\"field\\\" id=\\\"927947889FNAM1\\\"> </span> <span> </span> <span class=\\\"field\\\" id=\\\"927947889LNAM1\\\"> GEEK SQUAD AGENT</span> </div> <div class=\\\"lowerborder bottomborder\\\"> </div> </div> </div> <div class=\\\"section\\\" id=\\\"SECTION_SUMM927947900\\\" style=\\\"padding-top:0px;\\\"> <div class=\\\"heading\\\"> <div class=\\\"sectiontitle\\\" id=\\\"SECTNAME_SUMM927947900\\\"> Professional Profile</div> </div> <div class=\\\"paragraph firstparagraph\\\" id=\\\"PARAGRAPH_927947900_1_609980880\\\" style=\\\"padding-top:0px;\\\"> <div class=\\\"field singlecolumn\\\" id=\\\"927947900FRFM1\\\"> IT support specialist with experience across multiple disciplines including technical\\nsupport, customer service, computer repair, and military service. I am hard working,\\nwilling to learn, team oriented, and comfortable working independently as well.</div> </div> </div> <div class=\\\"section\\\" id=\\\"SECTION_HILT927947901\\\" style=\\\"padding-top:0px;\\\"> <div class=\\\"heading\\\"> <div class=\\\"sectiontitle\\\" id=\\\"SECTNAME_HILT927947901\\\"> Qualifications</div> </div> <div class=\\\"paragraph firstparagraph\\\" id=\\\"PARAGRAPH_927947901_1_609980881\\\" style=\\\"padding-top:0px;\\\"> <div class=\\\"singlecolumn maincolumn\\\"> <table class=\\\"twocol\\\"> <tbody> <tr> <td class=\\\"field twocol_1\\\" id=\\\"927947901SKC11\\\"> Windows / Mac / IOS / Android Technical Support \\nHardware &amp; Software Maintenance User Training \\nMalware Detection &amp; Removal  Customer Service \\nEntry Level Active Directory &amp; Ticketing Problem Solving &amp; Research</td> <td class=\\\"field twocol_2\\\" id=\\\"927947901SKC21\\\"> </td> </tr> </tbody> </table> </div> </div> </div> <div class=\\\"section\\\" id=\\\"SECTION_ACCM927948163\\\" style=\\\"padding-top:0px;\\\"> </div> <div class=\\\"section\\\" id=\\\"SECTION_EXPR927947891\\\" style=\\\"padding-top:0px;\\\"> <div class=\\\"heading\\\"> <div class=\\\"sectiontitle\\\" id=\\\"SECTNAME_EXPR927947891\\\"> Experience</div> </div> <div class=\\\"paragraph firstparagraph\\\" id=\\\"PARAGRAPH_927947891_1_609980874\\\" itemscope=\\\"\\\" itemtype=\\\"https://schema.org/Organization\\\" style=\\\"padding-top:0px;\\\"> <div class=\\\"singlecolumn\\\"> <span class=\\\"paddedline\\\"> <span class=\\\"companyname\\\" id=\\\"927947891COMP1\\\" itemprop=\\\"name\\\"> Company Name</span> <span> </span> <span class=\\\"datesWrapper\\\"> <span class=\\\"jobdates\\\" format=\\\"%B %Y\\\" id=\\\"927947891JSTD1\\\"> August 2014</span> <span>  to </span> <span class=\\\"jobdates\\\" format=\\\"%B %Y\\\" id=\\\"927947891EDDT1\\\"> October 2016</span> </span> </span> <span class=\\\"paddedline\\\" itemscope=\\\"\\\" itemtype=\\\"https://schema.org/postalAddress\\\"> <span class=\\\"jobtitle\\\" id=\\\"927947891JTIT1\\\"> Geek Squad Agent</span> <br/> <span class=\\\"joblocation jobcity\\\" id=\\\"927947891JCIT1\\\" itemprop=\\\"addressLocality\\\"> City</span> <span> , </span> <span class=\\\"joblocation jobstate\\\" id=\\\"927947891JSTA1\\\" itemprop=\\\"addressRegion\\\"> State</span> </span> <span class=\\\"paddedline\\\"> <span class=\\\"jobline\\\" id=\\\"927947891JDES1\\\" itemprop=\\\"description\\\"> <ul> <li> Provided technical support in person and over the phone.</li> <li> Performed hardware and software installation and repair.</li> <li> Refurbished and setup PCs and peripheral devices.</li> </ul> </span> </span> </div> </div> <div class=\\\"paragraph\\\" id=\\\"PARAGRAPH_927947891_2_609980875\\\" itemscope=\\\"\\\" itemtype=\\\"https://schema.org/Organization\\\" style=\\\"padding-top:0px;\\\"> <div class=\\\"singlecolumn\\\"> <span class=\\\"paddedline\\\"> <span class=\\\"companyname\\\" id=\\\"927947891COMP2\\\" itemprop=\\\"name\\\"> Company Name</span> <span> </span> <span class=\\\"datesWrapper\\\"> <span class=\\\"jobdates\\\" format=\\\"%B %Y\\\" id=\\\"927947891JSTD2\\\"> January 2013</span> <span>  to </span> <span class=\\\"jobdates\\\" format=\\\"%B %Y\\\" id=\\\"927947891EDDT2\\\"> January 2014</span> </span> </span> <span class=\\\"paddedline\\\" itemscope=\\\"\\\" itemtype=\\\"https://schema.org/postalAddress\\\"> <span class=\\\"jobtitle\\\" id=\\\"927947891JTIT2\\\"> Shipping &amp; Receiving Associate</span> <br/> <span class=\\\"joblocation jobcity\\\" id=\\\"927947891JCIT2\\\" itemprop=\\\"addressLocality\\\"> City</span> <span> , </span> <span class=\\\"joblocation jobstate\\\" id=\\\"927947891JSTA2\\\" itemprop=\\\"addressRegion\\\"> State</span> </span> <span class=\\\"paddedline\\\"> <span class=\\\"jobline\\\" id=\\\"927947891JDES2\\\" itemprop=\\\"description\\\"> <ul> <li> Performed shipping and receiving of product.</li> <li> Assisted with inventory management.</li> <li> General logistics and warehouse duties.</li> </ul> </span> </span> </div> </div> <div class=\\\"paragraph\\\" id=\\\"PARAGRAPH_927947891_3_609980876\\\" itemscope=\\\"\\\" itemtype=\\\"https://schema.org/Organization\\\" style=\\\"padding-top:0px;\\\"> <div class=\\\"singlecolumn\\\"> <span class=\\\"paddedline\\\"> <span class=\\\"companyname\\\" id=\\\"927947891COMP3\\\" itemprop=\\\"name\\\"> Company Name</span> <span> </span> <span class=\\\"datesWrapper\\\"> <span class=\\\"jobdates\\\" format=\\\"%B %Y\\\" id=\\\"927947891JSTD3\\\"> January 2009</span> <span>  to </span> <span class=\\\"jobdates\\\" format=\\\"%B %Y\\\" id=\\\"927947891EDDT3\\\"> January 2012</span> </span> </span> <span class=\\\"paddedline\\\" itemscope=\\\"\\\" itemtype=\\\"https://schema.org/postalAddress\\\"> <span class=\\\"jobtitle\\\" id=\\\"927947891JTIT3\\\"> Assembler/Shipping &amp; Receiving Associate</span> <br/> <span class=\\\"joblocation jobcity\\\" id=\\\"927947891JCIT3\\\" itemprop=\\\"addressLocality\\\"> City</span> <span> , </span> <span class=\\\"joblocation jobstate\\\" id=\\\"927947891JSTA3\\\" itemprop=\\\"addressRegion\\\"> State</span> </span> <span class=\\\"paddedline\\\"> <span class=\\\"jobline\\\" id=\\\"927947891JDES3\\\" itemprop=\\\"description\\\"> <ul> <li> Assembled and tested tanks according to specifications.</li> <li> Maintained inventory of tools and supplies.</li> <li> Performed shipping and receiving duties.</li> </ul> </span> </span> </div> </div> <div class=\\\"paragraph\\\" id=\\\"PARAGRAPH_927947891_4_609980878\\\" itemscope=\\\"\\\" itemtype=\\\"https://schema.org/Organization\\\" style=\\\"padding-top:0px;\\\"> <div class=\\\"singlecolumn\\\"> <span class=\\\"paddedline\\\"> <span class=\\\"companyname\\\" id=\\\"927947891COMP4\\\" itemprop=\\\"name\\\"> Company Name</span> <span> </span> <span class=\\\"datesWrapper\\\"> <span class=\\\"jobdates\\\" format=\\\"%B %Y\\\" id=\\\"927947891JSTD4\\\"> January 2005</span> <span>  to </span> <span class=\\\"jobdates\\\" format=\\\"%B %Y\\\" id=\\\"927947891EDDT4\\\"> January 2009</span> </span> </span> <span class=\\\"paddedline\\\" itemscope=\\\"\\\" itemtype=\\\"https://schema.org/postalAddress\\\"> <span class=\\\"jobtitle\\\" id=\\\"927947891JTIT4\\\"> Aviation Electrician</span> <br/> <span class=\\\"joblocation jobcity\\\" id=\\\"927947891JCIT4\\\" itemprop=\\\"addressLocality\\\"> City</span> <span> , </span> <span class=\\\"joblocation jobstate\\\" id=\\\"927947891JSTA4\\\" itemprop=\\\"addressRegion\\\"> State</span> </span> <span class=\\\"paddedline\\\"> <span class=\\\"jobline\\\" id=\\\"927947891JDES4\\\" itemprop=\\\"description\\\"> <ul> <li> Performed troubleshooting and maintenance of aircraft.</li> <li> Performed ground handling and marshalling of aircraft.</li> <li> Performed daily safe for flight inspections.</li> </ul> </span> </span> </div> </div> </div> <div class=\\\"section\\\" id=\\\"SECTION_EDUC927947899\\\" style=\\\"padding-top:0px;\\\"> <div class=\\\"heading\\\"> <div class=\\\"sectiontitle\\\" id=\\\"SECTNAME_EDUC927947899\\\"> Education</div> </div> <div class=\\\"paragraph firstparagraph\\\" id=\\\"PARAGRAPH_927947899_1_609980879\\\" itemscope=\\\"\\\" itemtype=\\\"https://schema.org/EducationalOrganization\\\" style=\\\"padding-top:0px;\\\"> <div class=\\\"singlecolumn\\\"> <span class=\\\"paddedline\\\"> <span class=\\\"companyname companyname_educ\\\" id=\\\"927947899SCHO1\\\" itemprop=\\\"name\\\"> Purdue University</span> <span> </span> <span class=\\\"datesWrapper\\\"> <span class=\\\"jobdates\\\" id=\\\"927947899GRYR1\\\"> 2014</span> <span> </span> </span> </span> <span class=\\\"paddedline\\\" itemprop=\\\"description\\\"> <span class=\\\"degree\\\" id=\\\"927947899DGRE1\\\" itemprop=\\\"name\\\"> B.S</span> <span> : </span> <span class=\\\"programline\\\" id=\\\"927947899STUY1\\\"> Computer &amp; Information Technology</span> </span> <span class=\\\"paddedline\\\"> <span class=\\\"joblocation jobcity\\\" id=\\\"927947899SCIT1\\\"> City</span> <span> , </span> <span class=\\\"joblocation jobstate\\\" id=\\\"927947899SSTA1\\\"> State</span> <span class=\\\"joblocation jobstate\\\" id=\\\"927947899SCNT1\\\"> </span> </span> <span class=\\\"paddedline\\\"> <span class=\\\"field\\\" id=\\\"927947899FRFM1\\\"> Computer &amp; Information Technology</span> </span> </div> </div> </div> <div class=\\\"section\\\" id=\\\"SECTION_AFIL927947903\\\" style=\\\"padding-top:0px;\\\"> </div> <div class=\\\"section\\\" id=\\\"SECTION_SKLL927947902\\\" style=\\\"padding-top:0px;\\\"> <div class=\\\"heading\\\"> <div class=\\\"sectiontitle\\\" id=\\\"SECTNAME_SKLL927947902\\\"> Skills</div> </div> <div class=\\\"paragraph firstparagraph\\\" id=\\\"PARAGRAPH_927947902_1_609980882\\\" style=\\\"padding-top:0px;\\\"> <div class=\\\"field singlecolumn\\\" id=\\\"927947902FRFM1\\\"> Active Directory, Hardware, Customer Service, inventory management, inventory, logistics, Mac, Windows, Problem Solving, receiving, Research, shipping, software installation, technical support, User Training, phone, troubleshooting</div> </div> </div> </div>\"\n        ],\n        \"semantic_type\": \"\",\n        \"description\": \"\"\n      }\n    },\n    {\n      \"column\": \"label\",\n      \"properties\": {\n        \"dtype\": \"number\",\n        \"std\": 0,\n        \"min\": 23,\n        \"max\": 23,\n        \"num_unique_values\": 1,\n        \"samples\": [\n          23\n        ],\n        \"semantic_type\": \"\",\n        \"description\": \"\"\n      }\n    }\n  ]\n}"
            }
          },
          "metadata": {},
          "execution_count": 25
        }
      ]
    },
    {
      "cell_type": "code",
      "source": [
        "from datasets import Dataset\n",
        "\n",
        "dataset = Dataset.from_pandas(df)\n",
        "dataset"
      ],
      "metadata": {
        "colab": {
          "base_uri": "https://localhost:8080/"
        },
        "id": "7j5QAlGcfxdZ",
        "outputId": "a74609d3-9400-4c33-e790-762e0e376de0"
      },
      "execution_count": null,
      "outputs": [
        {
          "output_type": "execute_result",
          "data": {
            "text/plain": [
              "Dataset({\n",
              "    features: ['ID', 'Resume_str', 'Resume_html', 'label'],\n",
              "    num_rows: 2484\n",
              "})"
            ]
          },
          "metadata": {},
          "execution_count": 26
        }
      ]
    },
    {
      "cell_type": "code",
      "source": [
        "dataset = dataset.train_test_split(test_size=0.1, shuffle=True)\n",
        "dataset"
      ],
      "metadata": {
        "colab": {
          "base_uri": "https://localhost:8080/"
        },
        "id": "eQD_VfIbgSN4",
        "outputId": "6e6cbaa7-eea6-427e-a66f-1b0928f0abd3"
      },
      "execution_count": null,
      "outputs": [
        {
          "output_type": "execute_result",
          "data": {
            "text/plain": [
              "DatasetDict({\n",
              "    train: Dataset({\n",
              "        features: ['ID', 'Resume_str', 'Resume_html', 'label'],\n",
              "        num_rows: 2235\n",
              "    })\n",
              "    test: Dataset({\n",
              "        features: ['ID', 'Resume_str', 'Resume_html', 'label'],\n",
              "        num_rows: 249\n",
              "    })\n",
              "})"
            ]
          },
          "metadata": {},
          "execution_count": 27
        }
      ]
    },
    {
      "cell_type": "code",
      "source": [
        "from transformers import AutoTokenizer\n",
        "\n",
        "tokenizer = AutoTokenizer.from_pretrained(\"distilbert/distilbert-base-uncased\")"
      ],
      "metadata": {
        "colab": {
          "base_uri": "https://localhost:8080/"
        },
        "id": "qhbHCq9whVWp",
        "outputId": "3287d99e-5e5a-429a-e863-784aa614f664"
      },
      "execution_count": null,
      "outputs": [
        {
          "output_type": "stream",
          "name": "stderr",
          "text": [
            "/usr/local/lib/python3.10/dist-packages/transformers/tokenization_utils_base.py:1601: FutureWarning: `clean_up_tokenization_spaces` was not set. It will be set to `True` by default. This behavior will be depracted in transformers v4.45, and will be then set to `False` by default. For more details check this issue: https://github.com/huggingface/transformers/issues/31884\n",
            "  warnings.warn(\n"
          ]
        }
      ]
    },
    {
      "cell_type": "code",
      "source": [
        "def preprocess_function(examples):\n",
        "\n",
        "    return tokenizer(examples[\"Resume_str\"], truncation=True)"
      ],
      "metadata": {
        "id": "B4JC9333i7LJ"
      },
      "execution_count": null,
      "outputs": []
    },
    {
      "cell_type": "code",
      "source": [
        "tokenized_dataset = dataset.map(preprocess_function, batched=True)\n",
        "tokenized_dataset"
      ],
      "metadata": {
        "colab": {
          "base_uri": "https://localhost:8080/",
          "height": 260,
          "referenced_widgets": [
            "3aebd33a757543d78b4d6107dd4ec8aa",
            "5723ba8c8d724c6599e670b7b2e3f852",
            "d41c99cd133f44f1aae84c8d217f4e33",
            "69d4b9d714184fe98c59f872453da71d",
            "24be089630b3452db51dd28517655182",
            "de63e335ec854175a5ed7c4eccd8b37c",
            "08f176262eda4d96be03043a06e72851",
            "1c700da2f78e4d3ab5d9b4fea2091a02",
            "80185ec384bf46f6a38faa662ee9711f",
            "6cd73240f17346f1b7733c1daab6c551",
            "5d3397e91e8f4673b4faea86c41bd191",
            "7ec31ec6701647589ba02b3ead87e8ac",
            "bc58473c6c304ffcb56c355cb5e657c4",
            "656a9da1a82d4cdabc8468c9e718b95a",
            "d73951c408514b5186a74b410138b82a",
            "aa984033ef6744d8a2f162f5312387ca",
            "c1f45616d0e0404eb6616f9e65f768a6",
            "265b313bfc774b1c94783ad09a18c31a",
            "19d9d5471f8e4565ab4f6d2e5b63f8b1",
            "a67317c7f17a4da6ad43852b13f4d3bb",
            "eb06299ad81a4d4cb7e1556133b754c0",
            "7d4332bbda9c48309d018b8351e2f593"
          ]
        },
        "id": "GXxCsj8FjB_6",
        "outputId": "2a40c126-d349-4a03-cfd1-0b1fcb0bfac3"
      },
      "execution_count": null,
      "outputs": [
        {
          "output_type": "display_data",
          "data": {
            "text/plain": [
              "Map:   0%|          | 0/2235 [00:00<?, ? examples/s]"
            ],
            "application/vnd.jupyter.widget-view+json": {
              "version_major": 2,
              "version_minor": 0,
              "model_id": "3aebd33a757543d78b4d6107dd4ec8aa"
            }
          },
          "metadata": {}
        },
        {
          "output_type": "display_data",
          "data": {
            "text/plain": [
              "Map:   0%|          | 0/249 [00:00<?, ? examples/s]"
            ],
            "application/vnd.jupyter.widget-view+json": {
              "version_major": 2,
              "version_minor": 0,
              "model_id": "7ec31ec6701647589ba02b3ead87e8ac"
            }
          },
          "metadata": {}
        },
        {
          "output_type": "execute_result",
          "data": {
            "text/plain": [
              "DatasetDict({\n",
              "    train: Dataset({\n",
              "        features: ['ID', 'Resume_str', 'Resume_html', 'label', 'input_ids', 'attention_mask'],\n",
              "        num_rows: 2235\n",
              "    })\n",
              "    test: Dataset({\n",
              "        features: ['ID', 'Resume_str', 'Resume_html', 'label', 'input_ids', 'attention_mask'],\n",
              "        num_rows: 249\n",
              "    })\n",
              "})"
            ]
          },
          "metadata": {},
          "execution_count": 30
        }
      ]
    },
    {
      "cell_type": "code",
      "source": [
        "from transformers import DataCollatorWithPadding\n",
        "\n",
        "data_collator = DataCollatorWithPadding(tokenizer=tokenizer)"
      ],
      "metadata": {
        "id": "FlG-6fH0jVAq"
      },
      "execution_count": null,
      "outputs": []
    },
    {
      "cell_type": "code",
      "source": [
        "import evaluate\n",
        "\n",
        "accuracy = evaluate.load(\"accuracy\")"
      ],
      "metadata": {
        "id": "F2n5pMa6jhx5"
      },
      "execution_count": null,
      "outputs": []
    },
    {
      "cell_type": "code",
      "source": [
        "import numpy as np\n",
        "\n",
        "\n",
        "def compute_metrics(eval_pred):\n",
        "\n",
        "    predictions, labels = eval_pred\n",
        "\n",
        "    predictions = np.argmax(predictions, axis=1)\n",
        "\n",
        "    return accuracy.compute(predictions=predictions, references=labels)"
      ],
      "metadata": {
        "id": "298l3Wjzjr06"
      },
      "execution_count": null,
      "outputs": []
    },
    {
      "cell_type": "code",
      "source": [
        "\n"
      ],
      "metadata": {
        "id": "0XZ3E3Czj79a"
      },
      "execution_count": null,
      "outputs": []
    },
    {
      "cell_type": "code",
      "source": [],
      "metadata": {
        "id": "Wm8OcIzFrTXC"
      },
      "execution_count": null,
      "outputs": []
    },
    {
      "cell_type": "code",
      "source": [
        "from transformers import AutoModelForSequenceClassification, TrainingArguments, Trainer\n",
        "\n",
        "model = AutoModelForSequenceClassification.from_pretrained(\n",
        "\n",
        "    \"distilbert/distilbert-base-uncased\", num_labels=num_labels, id2label=id2label, label2id=label2id\n",
        "\n",
        ")"
      ],
      "metadata": {
        "colab": {
          "base_uri": "https://localhost:8080/"
        },
        "id": "TtTMPBeUmbt5",
        "outputId": "53a61124-08a7-49ea-9b26-5c3001144ee4"
      },
      "execution_count": null,
      "outputs": [
        {
          "output_type": "stream",
          "name": "stderr",
          "text": [
            "Some weights of DistilBertForSequenceClassification were not initialized from the model checkpoint at distilbert/distilbert-base-uncased and are newly initialized: ['classifier.bias', 'classifier.weight', 'pre_classifier.bias', 'pre_classifier.weight']\n",
            "You should probably TRAIN this model on a down-stream task to be able to use it for predictions and inference.\n"
          ]
        }
      ]
    },
    {
      "cell_type": "code",
      "source": [
        "training_args = TrainingArguments(\n",
        "\n",
        "    output_dir=\"model\",\n",
        "\n",
        "    learning_rate=2e-5,\n",
        "\n",
        "    per_device_train_batch_size=16,\n",
        "\n",
        "    per_device_eval_batch_size=16,\n",
        "\n",
        "    num_train_epochs=1,\n",
        "\n",
        "    weight_decay=0.01,\n",
        "\n",
        "    eval_strategy=\"epoch\",\n",
        "\n",
        "    save_strategy=\"epoch\"\n",
        ")"
      ],
      "metadata": {
        "id": "-54LGTkdmkOp"
      },
      "execution_count": null,
      "outputs": []
    },
    {
      "cell_type": "code",
      "source": [
        "trainer = Trainer(\n",
        "\n",
        "    model=model,\n",
        "\n",
        "    args=training_args,\n",
        "\n",
        "    train_dataset=tokenized_dataset[\"train\"],\n",
        "\n",
        "    eval_dataset=tokenized_dataset[\"test\"],\n",
        "\n",
        "    tokenizer=tokenizer,\n",
        "\n",
        "    data_collator=data_collator,\n",
        "\n",
        "    compute_metrics=compute_metrics,\n",
        "\n",
        ")\n",
        "\n",
        "trainer.train()"
      ],
      "metadata": {
        "colab": {
          "base_uri": "https://localhost:8080/",
          "height": 143
        },
        "id": "S-OIjOgDm3Sp",
        "outputId": "843fa282-b404-4767-e990-d43fce8d2404"
      },
      "execution_count": null,
      "outputs": [
        {
          "output_type": "display_data",
          "data": {
            "text/plain": [
              "<IPython.core.display.HTML object>"
            ],
            "text/html": [
              "\n",
              "    <div>\n",
              "      \n",
              "      <progress value='140' max='140' style='width:300px; height:20px; vertical-align: middle;'></progress>\n",
              "      [140/140 01:57, Epoch 1/1]\n",
              "    </div>\n",
              "    <table border=\"1\" class=\"dataframe\">\n",
              "  <thead>\n",
              " <tr style=\"text-align: left;\">\n",
              "      <th>Epoch</th>\n",
              "      <th>Training Loss</th>\n",
              "      <th>Validation Loss</th>\n",
              "      <th>Accuracy</th>\n",
              "    </tr>\n",
              "  </thead>\n",
              "  <tbody>\n",
              "    <tr>\n",
              "      <td>1</td>\n",
              "      <td>No log</td>\n",
              "      <td>2.639319</td>\n",
              "      <td>0.510040</td>\n",
              "    </tr>\n",
              "  </tbody>\n",
              "</table><p>"
            ]
          },
          "metadata": {}
        },
        {
          "output_type": "execute_result",
          "data": {
            "text/plain": [
              "TrainOutput(global_step=140, training_loss=2.9163057599748883, metrics={'train_runtime': 118.5117, 'train_samples_per_second': 18.859, 'train_steps_per_second': 1.181, 'total_flos': 296180793630720.0, 'train_loss': 2.9163057599748883, 'epoch': 1.0})"
            ]
          },
          "metadata": {},
          "execution_count": 36
        }
      ]
    },
    {
      "cell_type": "code",
      "source": [],
      "metadata": {
        "id": "J_GnKuUqnLN5"
      },
      "execution_count": null,
      "outputs": []
    }
  ]
}